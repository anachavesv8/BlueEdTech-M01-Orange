{
  "cells": [
    {
      "cell_type": "markdown",
      "metadata": {
        "id": "view-in-github",
        "colab_type": "text"
      },
      "source": [
        "<a href=\"https://colab.research.google.com/github/anachavesv8/BlueEdTech-M01-Orange/blob/main/Projeto_4_MD_04.ipynb\" target=\"_parent\"><img src=\"https://colab.research.google.com/assets/colab-badge.svg\" alt=\"Open In Colab\"/></a>"
      ]
    },
    {
      "cell_type": "markdown",
      "metadata": {
        "id": "-Hc0oxHbjtUU"
      },
      "source": [
        "# Projeto 4 - Recomendação de vinhos - Wine Reviews"
      ]
    },
    {
      "cell_type": "markdown",
      "metadata": {
        "id": "TDMfTLA9jvVJ"
      },
      "source": [
        "# Wine Reviews - Kaggle\n",
        "\n",
        "O conjunto de dados Wine Reviews possui o comentário e a nota dada por cada especialista sobre diversos vinhos. O autor se inspirou para fazer este conjunto de dados após assistir Somm, um documentário sobre mestres sommeliers de vinho."
      ]
    },
    {
      "cell_type": "markdown",
      "metadata": {
        "id": "LTkyND4XjzGp"
      },
      "source": [
        "# Preparação do ambiente\n",
        "\n",
        "* Para este projeto, acessem o link do Kaggle e, logo abaixo, cliquem em \"Download\". Caso você não tenha uma conta no Kaggle, crie uma e retorne para esse ponto para realizar o download. Descompacte o arquivo.\n",
        "* Crie o projeto no Github\n",
        "* ~Use o cookiecutter para organizar o projeto~\n",
        "* Leia todo o material disponibilizado no Kaggle para entender esses dados\n",
        "* Caso precise, leia outros projetos que usaram este mesmo conjunto de dados"
      ]
    },
    {
      "cell_type": "markdown",
      "metadata": {
        "id": "4rxEl7BAkWLR"
      },
      "source": [
        "# Projeto\n",
        "\n",
        "1. Use os passos do Crisp-DM para desenvolver o projeto.\n",
        "2. Observe os dados e busque levantar observações importantes, tais como:\n",
        "  3. Qual vinho é o mais caro? E o mais barato?\n",
        "  4. Qual especialista avaliou mais vinhos? Qual a sua nota média?\n",
        "  5. Qual região possui os vinhos com as maiores avaliações? E qual possui os vinhos mais baratos?\n",
        "6. Faça o sistema de recomendação\n",
        "7. Escreva o relatório\n",
        "8. Disponibilize o repositório do seu projeto"
      ]
    },
    {
      "cell_type": "markdown",
      "metadata": {
        "id": "cEtnj0R_kpMP"
      },
      "source": [
        "# Exercícios\n",
        "\n",
        " "
      ]
    },
    {
      "cell_type": "markdown",
      "metadata": {
        "id": "9UDhW5dBkzfp"
      },
      "source": [
        "Separe o notebook entre analise exploratória, construção do sistema de recomendação e relatório.\n",
        "(3 pontos)"
      ]
    },
    {
      "cell_type": "markdown",
      "metadata": {
        "id": "SjRqUgAKkz5o"
      },
      "source": [
        "1. Análise exploratória: realize as análises deste conjunto de dados, crie gráficos e anote as suas idéias.\n",
        "(3 pontos)"
      ]
    },
    {
      "cell_type": "code",
      "source": [
        "#Instalando a biblioteca\n",
        "!pip install spacy\n",
        "\n",
        "import spacy\n",
        "import spacy.cli\n",
        "\n",
        "spacy.cli.download(\"en_core_web_sm\")"
      ],
      "metadata": {
        "colab": {
          "base_uri": "https://localhost:8080/"
        },
        "id": "vD-WqdsBp6hS",
        "outputId": "3e71bf37-f31b-4570-ed0f-5b1a833ec871"
      },
      "execution_count": 39,
      "outputs": [
        {
          "output_type": "stream",
          "name": "stdout",
          "text": [
            "Looking in indexes: https://pypi.org/simple, https://us-python.pkg.dev/colab-wheels/public/simple/\n",
            "Requirement already satisfied: spacy in /usr/local/lib/python3.7/dist-packages (3.3.1)\n",
            "Requirement already satisfied: pathy>=0.3.5 in /usr/local/lib/python3.7/dist-packages (from spacy) (0.6.2)\n",
            "Requirement already satisfied: catalogue<2.1.0,>=2.0.6 in /usr/local/lib/python3.7/dist-packages (from spacy) (2.0.7)\n",
            "Requirement already satisfied: langcodes<4.0.0,>=3.2.0 in /usr/local/lib/python3.7/dist-packages (from spacy) (3.3.0)\n",
            "Requirement already satisfied: jinja2 in /usr/local/lib/python3.7/dist-packages (from spacy) (2.11.3)\n",
            "Requirement already satisfied: pydantic!=1.8,!=1.8.1,<1.9.0,>=1.7.4 in /usr/local/lib/python3.7/dist-packages (from spacy) (1.8.2)\n",
            "Requirement already satisfied: tqdm<5.0.0,>=4.38.0 in /usr/local/lib/python3.7/dist-packages (from spacy) (4.64.0)\n",
            "Requirement already satisfied: murmurhash<1.1.0,>=0.28.0 in /usr/local/lib/python3.7/dist-packages (from spacy) (1.0.7)\n",
            "Requirement already satisfied: setuptools in /usr/local/lib/python3.7/dist-packages (from spacy) (57.4.0)\n",
            "Requirement already satisfied: preshed<3.1.0,>=3.0.2 in /usr/local/lib/python3.7/dist-packages (from spacy) (3.0.6)\n",
            "Requirement already satisfied: blis<0.8.0,>=0.4.0 in /usr/local/lib/python3.7/dist-packages (from spacy) (0.7.8)\n",
            "Requirement already satisfied: thinc<8.1.0,>=8.0.14 in /usr/local/lib/python3.7/dist-packages (from spacy) (8.0.17)\n",
            "Requirement already satisfied: srsly<3.0.0,>=2.4.3 in /usr/local/lib/python3.7/dist-packages (from spacy) (2.4.3)\n",
            "Requirement already satisfied: typing-extensions<4.2.0,>=3.7.4 in /usr/local/lib/python3.7/dist-packages (from spacy) (4.1.1)\n",
            "Requirement already satisfied: requests<3.0.0,>=2.13.0 in /usr/local/lib/python3.7/dist-packages (from spacy) (2.23.0)\n",
            "Requirement already satisfied: numpy>=1.15.0 in /usr/local/lib/python3.7/dist-packages (from spacy) (1.21.6)\n",
            "Requirement already satisfied: spacy-loggers<2.0.0,>=1.0.0 in /usr/local/lib/python3.7/dist-packages (from spacy) (1.0.2)\n",
            "Requirement already satisfied: spacy-legacy<3.1.0,>=3.0.9 in /usr/local/lib/python3.7/dist-packages (from spacy) (3.0.9)\n",
            "Requirement already satisfied: typer<0.5.0,>=0.3.0 in /usr/local/lib/python3.7/dist-packages (from spacy) (0.4.2)\n",
            "Requirement already satisfied: wasabi<1.1.0,>=0.9.1 in /usr/local/lib/python3.7/dist-packages (from spacy) (0.9.1)\n",
            "Requirement already satisfied: packaging>=20.0 in /usr/local/lib/python3.7/dist-packages (from spacy) (21.3)\n",
            "Requirement already satisfied: cymem<2.1.0,>=2.0.2 in /usr/local/lib/python3.7/dist-packages (from spacy) (2.0.6)\n",
            "Requirement already satisfied: zipp>=0.5 in /usr/local/lib/python3.7/dist-packages (from catalogue<2.1.0,>=2.0.6->spacy) (3.8.0)\n",
            "Requirement already satisfied: pyparsing!=3.0.5,>=2.0.2 in /usr/local/lib/python3.7/dist-packages (from packaging>=20.0->spacy) (3.0.9)\n",
            "Requirement already satisfied: smart-open<6.0.0,>=5.2.1 in /usr/local/lib/python3.7/dist-packages (from pathy>=0.3.5->spacy) (5.2.1)\n",
            "Requirement already satisfied: certifi>=2017.4.17 in /usr/local/lib/python3.7/dist-packages (from requests<3.0.0,>=2.13.0->spacy) (2022.6.15)\n",
            "Requirement already satisfied: idna<3,>=2.5 in /usr/local/lib/python3.7/dist-packages (from requests<3.0.0,>=2.13.0->spacy) (2.10)\n",
            "Requirement already satisfied: chardet<4,>=3.0.2 in /usr/local/lib/python3.7/dist-packages (from requests<3.0.0,>=2.13.0->spacy) (3.0.4)\n",
            "Requirement already satisfied: urllib3!=1.25.0,!=1.25.1,<1.26,>=1.21.1 in /usr/local/lib/python3.7/dist-packages (from requests<3.0.0,>=2.13.0->spacy) (1.24.3)\n",
            "Requirement already satisfied: click<9.0.0,>=7.1.1 in /usr/local/lib/python3.7/dist-packages (from typer<0.5.0,>=0.3.0->spacy) (7.1.2)\n",
            "Requirement already satisfied: MarkupSafe>=0.23 in /usr/local/lib/python3.7/dist-packages (from jinja2->spacy) (2.0.1)\n",
            "\u001b[38;5;2m✔ Download and installation successful\u001b[0m\n",
            "You can now load the package via spacy.load('en_core_web_sm')\n"
          ]
        }
      ]
    },
    {
      "cell_type": "code",
      "execution_count": 40,
      "metadata": {
        "id": "BIvbH8I4lih-"
      },
      "outputs": [],
      "source": [
        "import numpy as np\n",
        "import pandas as pd\n",
        "import re\n",
        "\n",
        "import sklearn\n",
        "\n",
        "from nltk import word_tokenize\n",
        "from nltk.corpus import stopwords\n",
        "from nltk.stem import WordNetLemmatizer\n",
        "from nltk.stem import PorterStemmer\n",
        "\n",
        "from sklearn.preprocessing import MultiLabelBinarizer\n",
        "from sklearn.feature_extraction.text import CountVectorizer\n",
        "from sklearn.feature_extraction.text import TfidfTransformer\n",
        "from sklearn.model_selection import train_test_split\n",
        "\n",
        "from sklearn.metrics.pairwise import cosine_similarity\n",
        "\n",
        "from scipy.sparse import csr_matrix\n",
        "from sklearn.neighbors import NearestNeighbors\n",
        "\n",
        "vinhos  = pd.read_csv('/content/drive/MyDrive/PYTHON/modulo extra projeto 4/winemag-data-130k-v2.csv')"
      ]
    },
    {
      "cell_type": "code",
      "execution_count": 41,
      "metadata": {
        "id": "JRajjhjC8tOV",
        "colab": {
          "base_uri": "https://localhost:8080/",
          "height": 970
        },
        "outputId": "4aafc145-1427-418b-bf70-c427c0367402"
      },
      "outputs": [
        {
          "output_type": "execute_result",
          "data": {
            "text/plain": [
              "        Unnamed: 0   country  \\\n",
              "0                0     Italy   \n",
              "1                1  Portugal   \n",
              "2                2        US   \n",
              "3                3        US   \n",
              "4                4        US   \n",
              "...            ...       ...   \n",
              "129966      129966   Germany   \n",
              "129967      129967        US   \n",
              "129968      129968    France   \n",
              "129969      129969    France   \n",
              "129970      129970    France   \n",
              "\n",
              "                                              description  \\\n",
              "0       Aromas include tropical fruit, broom, brimston...   \n",
              "1       This is ripe and fruity, a wine that is smooth...   \n",
              "2       Tart and snappy, the flavors of lime flesh and...   \n",
              "3       Pineapple rind, lemon pith and orange blossom ...   \n",
              "4       Much like the regular bottling from 2012, this...   \n",
              "...                                                   ...   \n",
              "129966  Notes of honeysuckle and cantaloupe sweeten th...   \n",
              "129967  Citation is given as much as a decade of bottl...   \n",
              "129968  Well-drained gravel soil gives this wine its c...   \n",
              "129969  A dry style of Pinot Gris, this is crisp with ...   \n",
              "129970  Big, rich and off-dry, this is powered by inte...   \n",
              "\n",
              "                                   designation  points  price  \\\n",
              "0                                 Vulkà Bianco      87    NaN   \n",
              "1                                     Avidagos      87   15.0   \n",
              "2                                          NaN      87   14.0   \n",
              "3                         Reserve Late Harvest      87   13.0   \n",
              "4           Vintner's Reserve Wild Child Block      87   65.0   \n",
              "...                                        ...     ...    ...   \n",
              "129966  Brauneberger Juffer-Sonnenuhr Spätlese      90   28.0   \n",
              "129967                                     NaN      90   75.0   \n",
              "129968                                   Kritt      90   30.0   \n",
              "129969                                     NaN      90   32.0   \n",
              "129970           Lieu-dit Harth Cuvée Caroline      90   21.0   \n",
              "\n",
              "                 province             region_1           region_2  \\\n",
              "0       Sicily & Sardinia                 Etna                NaN   \n",
              "1                   Douro                  NaN                NaN   \n",
              "2                  Oregon    Willamette Valley  Willamette Valley   \n",
              "3                Michigan  Lake Michigan Shore                NaN   \n",
              "4                  Oregon    Willamette Valley  Willamette Valley   \n",
              "...                   ...                  ...                ...   \n",
              "129966              Mosel                  NaN                NaN   \n",
              "129967             Oregon               Oregon       Oregon Other   \n",
              "129968             Alsace               Alsace                NaN   \n",
              "129969             Alsace               Alsace                NaN   \n",
              "129970             Alsace               Alsace                NaN   \n",
              "\n",
              "               taster_name taster_twitter_handle  \\\n",
              "0            Kerin O’Keefe          @kerinokeefe   \n",
              "1               Roger Voss            @vossroger   \n",
              "2             Paul Gregutt           @paulgwine    \n",
              "3       Alexander Peartree                   NaN   \n",
              "4             Paul Gregutt           @paulgwine    \n",
              "...                    ...                   ...   \n",
              "129966  Anna Lee C. Iijima                   NaN   \n",
              "129967        Paul Gregutt           @paulgwine    \n",
              "129968          Roger Voss            @vossroger   \n",
              "129969          Roger Voss            @vossroger   \n",
              "129970          Roger Voss            @vossroger   \n",
              "\n",
              "                                                    title         variety  \\\n",
              "0                       Nicosia 2013 Vulkà Bianco  (Etna)     White Blend   \n",
              "1           Quinta dos Avidagos 2011 Avidagos Red (Douro)  Portuguese Red   \n",
              "2           Rainstorm 2013 Pinot Gris (Willamette Valley)      Pinot Gris   \n",
              "3       St. Julian 2013 Reserve Late Harvest Riesling ...        Riesling   \n",
              "4       Sweet Cheeks 2012 Vintner's Reserve Wild Child...      Pinot Noir   \n",
              "...                                                   ...             ...   \n",
              "129966  Dr. H. Thanisch (Erben Müller-Burggraef) 2013 ...        Riesling   \n",
              "129967                  Citation 2004 Pinot Noir (Oregon)      Pinot Noir   \n",
              "129968  Domaine Gresser 2013 Kritt Gewurztraminer (Als...  Gewürztraminer   \n",
              "129969      Domaine Marcel Deiss 2012 Pinot Gris (Alsace)      Pinot Gris   \n",
              "129970  Domaine Schoffit 2012 Lieu-dit Harth Cuvée Car...  Gewürztraminer   \n",
              "\n",
              "                                          winery  \n",
              "0                                        Nicosia  \n",
              "1                            Quinta dos Avidagos  \n",
              "2                                      Rainstorm  \n",
              "3                                     St. Julian  \n",
              "4                                   Sweet Cheeks  \n",
              "...                                          ...  \n",
              "129966  Dr. H. Thanisch (Erben Müller-Burggraef)  \n",
              "129967                                  Citation  \n",
              "129968                           Domaine Gresser  \n",
              "129969                      Domaine Marcel Deiss  \n",
              "129970                          Domaine Schoffit  \n",
              "\n",
              "[129971 rows x 14 columns]"
            ],
            "text/html": [
              "\n",
              "  <div id=\"df-7f7483f1-1641-4c8f-bece-5826267a7237\">\n",
              "    <div class=\"colab-df-container\">\n",
              "      <div>\n",
              "<style scoped>\n",
              "    .dataframe tbody tr th:only-of-type {\n",
              "        vertical-align: middle;\n",
              "    }\n",
              "\n",
              "    .dataframe tbody tr th {\n",
              "        vertical-align: top;\n",
              "    }\n",
              "\n",
              "    .dataframe thead th {\n",
              "        text-align: right;\n",
              "    }\n",
              "</style>\n",
              "<table border=\"1\" class=\"dataframe\">\n",
              "  <thead>\n",
              "    <tr style=\"text-align: right;\">\n",
              "      <th></th>\n",
              "      <th>Unnamed: 0</th>\n",
              "      <th>country</th>\n",
              "      <th>description</th>\n",
              "      <th>designation</th>\n",
              "      <th>points</th>\n",
              "      <th>price</th>\n",
              "      <th>province</th>\n",
              "      <th>region_1</th>\n",
              "      <th>region_2</th>\n",
              "      <th>taster_name</th>\n",
              "      <th>taster_twitter_handle</th>\n",
              "      <th>title</th>\n",
              "      <th>variety</th>\n",
              "      <th>winery</th>\n",
              "    </tr>\n",
              "  </thead>\n",
              "  <tbody>\n",
              "    <tr>\n",
              "      <th>0</th>\n",
              "      <td>0</td>\n",
              "      <td>Italy</td>\n",
              "      <td>Aromas include tropical fruit, broom, brimston...</td>\n",
              "      <td>Vulkà Bianco</td>\n",
              "      <td>87</td>\n",
              "      <td>NaN</td>\n",
              "      <td>Sicily &amp; Sardinia</td>\n",
              "      <td>Etna</td>\n",
              "      <td>NaN</td>\n",
              "      <td>Kerin O’Keefe</td>\n",
              "      <td>@kerinokeefe</td>\n",
              "      <td>Nicosia 2013 Vulkà Bianco  (Etna)</td>\n",
              "      <td>White Blend</td>\n",
              "      <td>Nicosia</td>\n",
              "    </tr>\n",
              "    <tr>\n",
              "      <th>1</th>\n",
              "      <td>1</td>\n",
              "      <td>Portugal</td>\n",
              "      <td>This is ripe and fruity, a wine that is smooth...</td>\n",
              "      <td>Avidagos</td>\n",
              "      <td>87</td>\n",
              "      <td>15.0</td>\n",
              "      <td>Douro</td>\n",
              "      <td>NaN</td>\n",
              "      <td>NaN</td>\n",
              "      <td>Roger Voss</td>\n",
              "      <td>@vossroger</td>\n",
              "      <td>Quinta dos Avidagos 2011 Avidagos Red (Douro)</td>\n",
              "      <td>Portuguese Red</td>\n",
              "      <td>Quinta dos Avidagos</td>\n",
              "    </tr>\n",
              "    <tr>\n",
              "      <th>2</th>\n",
              "      <td>2</td>\n",
              "      <td>US</td>\n",
              "      <td>Tart and snappy, the flavors of lime flesh and...</td>\n",
              "      <td>NaN</td>\n",
              "      <td>87</td>\n",
              "      <td>14.0</td>\n",
              "      <td>Oregon</td>\n",
              "      <td>Willamette Valley</td>\n",
              "      <td>Willamette Valley</td>\n",
              "      <td>Paul Gregutt</td>\n",
              "      <td>@paulgwine</td>\n",
              "      <td>Rainstorm 2013 Pinot Gris (Willamette Valley)</td>\n",
              "      <td>Pinot Gris</td>\n",
              "      <td>Rainstorm</td>\n",
              "    </tr>\n",
              "    <tr>\n",
              "      <th>3</th>\n",
              "      <td>3</td>\n",
              "      <td>US</td>\n",
              "      <td>Pineapple rind, lemon pith and orange blossom ...</td>\n",
              "      <td>Reserve Late Harvest</td>\n",
              "      <td>87</td>\n",
              "      <td>13.0</td>\n",
              "      <td>Michigan</td>\n",
              "      <td>Lake Michigan Shore</td>\n",
              "      <td>NaN</td>\n",
              "      <td>Alexander Peartree</td>\n",
              "      <td>NaN</td>\n",
              "      <td>St. Julian 2013 Reserve Late Harvest Riesling ...</td>\n",
              "      <td>Riesling</td>\n",
              "      <td>St. Julian</td>\n",
              "    </tr>\n",
              "    <tr>\n",
              "      <th>4</th>\n",
              "      <td>4</td>\n",
              "      <td>US</td>\n",
              "      <td>Much like the regular bottling from 2012, this...</td>\n",
              "      <td>Vintner's Reserve Wild Child Block</td>\n",
              "      <td>87</td>\n",
              "      <td>65.0</td>\n",
              "      <td>Oregon</td>\n",
              "      <td>Willamette Valley</td>\n",
              "      <td>Willamette Valley</td>\n",
              "      <td>Paul Gregutt</td>\n",
              "      <td>@paulgwine</td>\n",
              "      <td>Sweet Cheeks 2012 Vintner's Reserve Wild Child...</td>\n",
              "      <td>Pinot Noir</td>\n",
              "      <td>Sweet Cheeks</td>\n",
              "    </tr>\n",
              "    <tr>\n",
              "      <th>...</th>\n",
              "      <td>...</td>\n",
              "      <td>...</td>\n",
              "      <td>...</td>\n",
              "      <td>...</td>\n",
              "      <td>...</td>\n",
              "      <td>...</td>\n",
              "      <td>...</td>\n",
              "      <td>...</td>\n",
              "      <td>...</td>\n",
              "      <td>...</td>\n",
              "      <td>...</td>\n",
              "      <td>...</td>\n",
              "      <td>...</td>\n",
              "      <td>...</td>\n",
              "    </tr>\n",
              "    <tr>\n",
              "      <th>129966</th>\n",
              "      <td>129966</td>\n",
              "      <td>Germany</td>\n",
              "      <td>Notes of honeysuckle and cantaloupe sweeten th...</td>\n",
              "      <td>Brauneberger Juffer-Sonnenuhr Spätlese</td>\n",
              "      <td>90</td>\n",
              "      <td>28.0</td>\n",
              "      <td>Mosel</td>\n",
              "      <td>NaN</td>\n",
              "      <td>NaN</td>\n",
              "      <td>Anna Lee C. Iijima</td>\n",
              "      <td>NaN</td>\n",
              "      <td>Dr. H. Thanisch (Erben Müller-Burggraef) 2013 ...</td>\n",
              "      <td>Riesling</td>\n",
              "      <td>Dr. H. Thanisch (Erben Müller-Burggraef)</td>\n",
              "    </tr>\n",
              "    <tr>\n",
              "      <th>129967</th>\n",
              "      <td>129967</td>\n",
              "      <td>US</td>\n",
              "      <td>Citation is given as much as a decade of bottl...</td>\n",
              "      <td>NaN</td>\n",
              "      <td>90</td>\n",
              "      <td>75.0</td>\n",
              "      <td>Oregon</td>\n",
              "      <td>Oregon</td>\n",
              "      <td>Oregon Other</td>\n",
              "      <td>Paul Gregutt</td>\n",
              "      <td>@paulgwine</td>\n",
              "      <td>Citation 2004 Pinot Noir (Oregon)</td>\n",
              "      <td>Pinot Noir</td>\n",
              "      <td>Citation</td>\n",
              "    </tr>\n",
              "    <tr>\n",
              "      <th>129968</th>\n",
              "      <td>129968</td>\n",
              "      <td>France</td>\n",
              "      <td>Well-drained gravel soil gives this wine its c...</td>\n",
              "      <td>Kritt</td>\n",
              "      <td>90</td>\n",
              "      <td>30.0</td>\n",
              "      <td>Alsace</td>\n",
              "      <td>Alsace</td>\n",
              "      <td>NaN</td>\n",
              "      <td>Roger Voss</td>\n",
              "      <td>@vossroger</td>\n",
              "      <td>Domaine Gresser 2013 Kritt Gewurztraminer (Als...</td>\n",
              "      <td>Gewürztraminer</td>\n",
              "      <td>Domaine Gresser</td>\n",
              "    </tr>\n",
              "    <tr>\n",
              "      <th>129969</th>\n",
              "      <td>129969</td>\n",
              "      <td>France</td>\n",
              "      <td>A dry style of Pinot Gris, this is crisp with ...</td>\n",
              "      <td>NaN</td>\n",
              "      <td>90</td>\n",
              "      <td>32.0</td>\n",
              "      <td>Alsace</td>\n",
              "      <td>Alsace</td>\n",
              "      <td>NaN</td>\n",
              "      <td>Roger Voss</td>\n",
              "      <td>@vossroger</td>\n",
              "      <td>Domaine Marcel Deiss 2012 Pinot Gris (Alsace)</td>\n",
              "      <td>Pinot Gris</td>\n",
              "      <td>Domaine Marcel Deiss</td>\n",
              "    </tr>\n",
              "    <tr>\n",
              "      <th>129970</th>\n",
              "      <td>129970</td>\n",
              "      <td>France</td>\n",
              "      <td>Big, rich and off-dry, this is powered by inte...</td>\n",
              "      <td>Lieu-dit Harth Cuvée Caroline</td>\n",
              "      <td>90</td>\n",
              "      <td>21.0</td>\n",
              "      <td>Alsace</td>\n",
              "      <td>Alsace</td>\n",
              "      <td>NaN</td>\n",
              "      <td>Roger Voss</td>\n",
              "      <td>@vossroger</td>\n",
              "      <td>Domaine Schoffit 2012 Lieu-dit Harth Cuvée Car...</td>\n",
              "      <td>Gewürztraminer</td>\n",
              "      <td>Domaine Schoffit</td>\n",
              "    </tr>\n",
              "  </tbody>\n",
              "</table>\n",
              "<p>129971 rows × 14 columns</p>\n",
              "</div>\n",
              "      <button class=\"colab-df-convert\" onclick=\"convertToInteractive('df-7f7483f1-1641-4c8f-bece-5826267a7237')\"\n",
              "              title=\"Convert this dataframe to an interactive table.\"\n",
              "              style=\"display:none;\">\n",
              "        \n",
              "  <svg xmlns=\"http://www.w3.org/2000/svg\" height=\"24px\"viewBox=\"0 0 24 24\"\n",
              "       width=\"24px\">\n",
              "    <path d=\"M0 0h24v24H0V0z\" fill=\"none\"/>\n",
              "    <path d=\"M18.56 5.44l.94 2.06.94-2.06 2.06-.94-2.06-.94-.94-2.06-.94 2.06-2.06.94zm-11 1L8.5 8.5l.94-2.06 2.06-.94-2.06-.94L8.5 2.5l-.94 2.06-2.06.94zm10 10l.94 2.06.94-2.06 2.06-.94-2.06-.94-.94-2.06-.94 2.06-2.06.94z\"/><path d=\"M17.41 7.96l-1.37-1.37c-.4-.4-.92-.59-1.43-.59-.52 0-1.04.2-1.43.59L10.3 9.45l-7.72 7.72c-.78.78-.78 2.05 0 2.83L4 21.41c.39.39.9.59 1.41.59.51 0 1.02-.2 1.41-.59l7.78-7.78 2.81-2.81c.8-.78.8-2.07 0-2.86zM5.41 20L4 18.59l7.72-7.72 1.47 1.35L5.41 20z\"/>\n",
              "  </svg>\n",
              "      </button>\n",
              "      \n",
              "  <style>\n",
              "    .colab-df-container {\n",
              "      display:flex;\n",
              "      flex-wrap:wrap;\n",
              "      gap: 12px;\n",
              "    }\n",
              "\n",
              "    .colab-df-convert {\n",
              "      background-color: #E8F0FE;\n",
              "      border: none;\n",
              "      border-radius: 50%;\n",
              "      cursor: pointer;\n",
              "      display: none;\n",
              "      fill: #1967D2;\n",
              "      height: 32px;\n",
              "      padding: 0 0 0 0;\n",
              "      width: 32px;\n",
              "    }\n",
              "\n",
              "    .colab-df-convert:hover {\n",
              "      background-color: #E2EBFA;\n",
              "      box-shadow: 0px 1px 2px rgba(60, 64, 67, 0.3), 0px 1px 3px 1px rgba(60, 64, 67, 0.15);\n",
              "      fill: #174EA6;\n",
              "    }\n",
              "\n",
              "    [theme=dark] .colab-df-convert {\n",
              "      background-color: #3B4455;\n",
              "      fill: #D2E3FC;\n",
              "    }\n",
              "\n",
              "    [theme=dark] .colab-df-convert:hover {\n",
              "      background-color: #434B5C;\n",
              "      box-shadow: 0px 1px 3px 1px rgba(0, 0, 0, 0.15);\n",
              "      filter: drop-shadow(0px 1px 2px rgba(0, 0, 0, 0.3));\n",
              "      fill: #FFFFFF;\n",
              "    }\n",
              "  </style>\n",
              "\n",
              "      <script>\n",
              "        const buttonEl =\n",
              "          document.querySelector('#df-7f7483f1-1641-4c8f-bece-5826267a7237 button.colab-df-convert');\n",
              "        buttonEl.style.display =\n",
              "          google.colab.kernel.accessAllowed ? 'block' : 'none';\n",
              "\n",
              "        async function convertToInteractive(key) {\n",
              "          const element = document.querySelector('#df-7f7483f1-1641-4c8f-bece-5826267a7237');\n",
              "          const dataTable =\n",
              "            await google.colab.kernel.invokeFunction('convertToInteractive',\n",
              "                                                     [key], {});\n",
              "          if (!dataTable) return;\n",
              "\n",
              "          const docLinkHtml = 'Like what you see? Visit the ' +\n",
              "            '<a target=\"_blank\" href=https://colab.research.google.com/notebooks/data_table.ipynb>data table notebook</a>'\n",
              "            + ' to learn more about interactive tables.';\n",
              "          element.innerHTML = '';\n",
              "          dataTable['output_type'] = 'display_data';\n",
              "          await google.colab.output.renderOutput(dataTable, element);\n",
              "          const docLink = document.createElement('div');\n",
              "          docLink.innerHTML = docLinkHtml;\n",
              "          element.appendChild(docLink);\n",
              "        }\n",
              "      </script>\n",
              "    </div>\n",
              "  </div>\n",
              "  "
            ]
          },
          "metadata": {},
          "execution_count": 41
        }
      ],
      "source": [
        "vinhos"
      ]
    },
    {
      "cell_type": "code",
      "execution_count": 42,
      "metadata": {
        "id": "vUMmEU7lG68O",
        "colab": {
          "base_uri": "https://localhost:8080/"
        },
        "outputId": "6f7f8f6a-20a4-4d9e-b17c-e3ba98fe4f8d"
      },
      "outputs": [
        {
          "output_type": "stream",
          "name": "stdout",
          "text": [
            "<class 'pandas.core.frame.DataFrame'>\n",
            "RangeIndex: 129971 entries, 0 to 129970\n",
            "Data columns (total 14 columns):\n",
            " #   Column                 Non-Null Count   Dtype  \n",
            "---  ------                 --------------   -----  \n",
            " 0   Unnamed: 0             129971 non-null  int64  \n",
            " 1   country                129908 non-null  object \n",
            " 2   description            129971 non-null  object \n",
            " 3   designation            92506 non-null   object \n",
            " 4   points                 129971 non-null  int64  \n",
            " 5   price                  120975 non-null  float64\n",
            " 6   province               129908 non-null  object \n",
            " 7   region_1               108724 non-null  object \n",
            " 8   region_2               50511 non-null   object \n",
            " 9   taster_name            103727 non-null  object \n",
            " 10  taster_twitter_handle  98758 non-null   object \n",
            " 11  title                  129971 non-null  object \n",
            " 12  variety                129970 non-null  object \n",
            " 13  winery                 129971 non-null  object \n",
            "dtypes: float64(1), int64(2), object(11)\n",
            "memory usage: 13.9+ MB\n"
          ]
        }
      ],
      "source": [
        "vinhos.info()"
      ]
    },
    {
      "cell_type": "markdown",
      "metadata": {
        "id": "RkJ3nHukGNz4"
      },
      "source": [
        "Colunas presentes: \n",
        "\n",
        "* *Unnamed:\t- coluna vazia, sera excluida.* \n",
        "* country - País\n",
        "* description\t - descrição\n",
        "* designation\t- designação - será excluida, não achei relevante\n",
        "* points - pontos\t\n",
        "* price\tprovince\t- Preço da provincia\n",
        "* region_1\t- região 1 - será excluida por ter muitos valores nulos\n",
        "* *region_2\t- região 2 - será excluido, por ter muitos valores nulos\n",
        "* taster_name\t- nome do provador - excluido para o dataset de recomendação, mas será utilizado no dataset original para responder as perguntas.\n",
        "* *taster_twitter_handle\t- Twitter do provador (coluna será excluida)*\n",
        "* title\t- Titulo do vinho\n",
        "* variety\twinery - Variedade Vinicola\n",
        "\n",
        "Este dataset, é a relação dos vinhos e a classificação dos provadores, referente ao documentario somm (2012).\n",
        "\n",
        "Irei remover os valores nulos, excluir as colunas que não fazem referencia ao processo.\n",
        "\n"
      ]
    },
    {
      "cell_type": "code",
      "execution_count": 43,
      "metadata": {
        "id": "OQwmM_VGGN73"
      },
      "outputs": [],
      "source": [
        "vinhos_2 = vinhos.drop(['Unnamed: 0', 'region_2', 'taster_twitter_handle', 'taster_name', 'designation', 'region_1' ], axis=1)"
      ]
    },
    {
      "cell_type": "code",
      "execution_count": 44,
      "metadata": {
        "id": "ODkKaEgKH7_L",
        "colab": {
          "base_uri": "https://localhost:8080/"
        },
        "outputId": "04f78e8d-f106-4b9c-ed14-685bc33fa0d9"
      },
      "outputs": [
        {
          "output_type": "execute_result",
          "data": {
            "text/plain": [
              "variety        1\n",
              "country       63\n",
              "province      63\n",
              "price       8996\n",
              "dtype: int64"
            ]
          },
          "metadata": {},
          "execution_count": 44
        }
      ],
      "source": [
        "df = vinhos_2.copy() \n",
        "df.isna().sum().loc[df.isna().sum()>0].sort_values()"
      ]
    },
    {
      "cell_type": "markdown",
      "metadata": {
        "id": "_9Y8l2bYeZjR"
      },
      "source": [
        "Corrigindo os valores nulos"
      ]
    },
    {
      "cell_type": "code",
      "execution_count": 45,
      "metadata": {
        "id": "WkP9bb41OpAe",
        "colab": {
          "base_uri": "https://localhost:8080/"
        },
        "outputId": "0345be19-9184-4a66-cb46-dfe61adbe6aa"
      },
      "outputs": [
        {
          "output_type": "stream",
          "name": "stdout",
          "text": [
            "<class 'pandas.core.frame.DataFrame'>\n",
            "RangeIndex: 129971 entries, 0 to 129970\n",
            "Data columns (total 8 columns):\n",
            " #   Column       Non-Null Count   Dtype  \n",
            "---  ------       --------------   -----  \n",
            " 0   country      129908 non-null  object \n",
            " 1   description  129971 non-null  object \n",
            " 2   points       129971 non-null  int64  \n",
            " 3   price        120975 non-null  float64\n",
            " 4   province     129908 non-null  object \n",
            " 5   title        129971 non-null  object \n",
            " 6   variety      129970 non-null  object \n",
            " 7   winery       129971 non-null  object \n",
            "dtypes: float64(1), int64(1), object(6)\n",
            "memory usage: 7.9+ MB\n"
          ]
        }
      ],
      "source": [
        "vinhos_2.info()"
      ]
    },
    {
      "cell_type": "markdown",
      "metadata": {
        "id": "cFj12F2ffAKd"
      },
      "source": [
        "Verificando os valores médio do preço, e colocando como valor nas NaN."
      ]
    },
    {
      "cell_type": "code",
      "execution_count": 46,
      "metadata": {
        "id": "xB4tfzJuUZRQ",
        "colab": {
          "base_uri": "https://localhost:8080/"
        },
        "outputId": "83d8f36a-bc7e-4923-e2e9-a71f8b1ddfae"
      },
      "outputs": [
        {
          "output_type": "execute_result",
          "data": {
            "text/plain": [
              "25.0"
            ]
          },
          "metadata": {},
          "execution_count": 46
        }
      ],
      "source": [
        "vinhos_2['price'].median()"
      ]
    },
    {
      "cell_type": "code",
      "execution_count": 47,
      "metadata": {
        "id": "yMX64VnPUcL3"
      },
      "outputs": [],
      "source": [
        "vinhos_2.loc[pd.Series(vinhos_2.price.isna()), 'price'] = 25"
      ]
    },
    {
      "cell_type": "markdown",
      "metadata": {
        "id": "MQ6_PVItfKql"
      },
      "source": [
        "Excluindo os demais valores nulos."
      ]
    },
    {
      "cell_type": "code",
      "execution_count": 48,
      "metadata": {
        "id": "QmAuFTWqOdQ3",
        "colab": {
          "base_uri": "https://localhost:8080/",
          "height": 467
        },
        "outputId": "84a224a1-3139-4b6a-ef07-f27f0e06f499"
      },
      "outputs": [
        {
          "output_type": "execute_result",
          "data": {
            "text/plain": [
              "         country                                        description  points  \\\n",
              "0          Italy  Aromas include tropical fruit, broom, brimston...      87   \n",
              "1       Portugal  This is ripe and fruity, a wine that is smooth...      87   \n",
              "2             US  Tart and snappy, the flavors of lime flesh and...      87   \n",
              "3             US  Pineapple rind, lemon pith and orange blossom ...      87   \n",
              "4             US  Much like the regular bottling from 2012, this...      87   \n",
              "...          ...                                                ...     ...   \n",
              "129966   Germany  Notes of honeysuckle and cantaloupe sweeten th...      90   \n",
              "129967        US  Citation is given as much as a decade of bottl...      90   \n",
              "129968    France  Well-drained gravel soil gives this wine its c...      90   \n",
              "129969    France  A dry style of Pinot Gris, this is crisp with ...      90   \n",
              "129970    France  Big, rich and off-dry, this is powered by inte...      90   \n",
              "\n",
              "        price           province  \\\n",
              "0        25.0  Sicily & Sardinia   \n",
              "1        15.0              Douro   \n",
              "2        14.0             Oregon   \n",
              "3        13.0           Michigan   \n",
              "4        65.0             Oregon   \n",
              "...       ...                ...   \n",
              "129966   28.0              Mosel   \n",
              "129967   75.0             Oregon   \n",
              "129968   30.0             Alsace   \n",
              "129969   32.0             Alsace   \n",
              "129970   21.0             Alsace   \n",
              "\n",
              "                                                    title         variety  \\\n",
              "0                       Nicosia 2013 Vulkà Bianco  (Etna)     White Blend   \n",
              "1           Quinta dos Avidagos 2011 Avidagos Red (Douro)  Portuguese Red   \n",
              "2           Rainstorm 2013 Pinot Gris (Willamette Valley)      Pinot Gris   \n",
              "3       St. Julian 2013 Reserve Late Harvest Riesling ...        Riesling   \n",
              "4       Sweet Cheeks 2012 Vintner's Reserve Wild Child...      Pinot Noir   \n",
              "...                                                   ...             ...   \n",
              "129966  Dr. H. Thanisch (Erben Müller-Burggraef) 2013 ...        Riesling   \n",
              "129967                  Citation 2004 Pinot Noir (Oregon)      Pinot Noir   \n",
              "129968  Domaine Gresser 2013 Kritt Gewurztraminer (Als...  Gewürztraminer   \n",
              "129969      Domaine Marcel Deiss 2012 Pinot Gris (Alsace)      Pinot Gris   \n",
              "129970  Domaine Schoffit 2012 Lieu-dit Harth Cuvée Car...  Gewürztraminer   \n",
              "\n",
              "                                          winery  \n",
              "0                                        Nicosia  \n",
              "1                            Quinta dos Avidagos  \n",
              "2                                      Rainstorm  \n",
              "3                                     St. Julian  \n",
              "4                                   Sweet Cheeks  \n",
              "...                                          ...  \n",
              "129966  Dr. H. Thanisch (Erben Müller-Burggraef)  \n",
              "129967                                  Citation  \n",
              "129968                           Domaine Gresser  \n",
              "129969                      Domaine Marcel Deiss  \n",
              "129970                          Domaine Schoffit  \n",
              "\n",
              "[129971 rows x 8 columns]"
            ],
            "text/html": [
              "\n",
              "  <div id=\"df-3af58211-6b51-4bca-9b84-4bae1a4084fd\">\n",
              "    <div class=\"colab-df-container\">\n",
              "      <div>\n",
              "<style scoped>\n",
              "    .dataframe tbody tr th:only-of-type {\n",
              "        vertical-align: middle;\n",
              "    }\n",
              "\n",
              "    .dataframe tbody tr th {\n",
              "        vertical-align: top;\n",
              "    }\n",
              "\n",
              "    .dataframe thead th {\n",
              "        text-align: right;\n",
              "    }\n",
              "</style>\n",
              "<table border=\"1\" class=\"dataframe\">\n",
              "  <thead>\n",
              "    <tr style=\"text-align: right;\">\n",
              "      <th></th>\n",
              "      <th>country</th>\n",
              "      <th>description</th>\n",
              "      <th>points</th>\n",
              "      <th>price</th>\n",
              "      <th>province</th>\n",
              "      <th>title</th>\n",
              "      <th>variety</th>\n",
              "      <th>winery</th>\n",
              "    </tr>\n",
              "  </thead>\n",
              "  <tbody>\n",
              "    <tr>\n",
              "      <th>0</th>\n",
              "      <td>Italy</td>\n",
              "      <td>Aromas include tropical fruit, broom, brimston...</td>\n",
              "      <td>87</td>\n",
              "      <td>25.0</td>\n",
              "      <td>Sicily &amp; Sardinia</td>\n",
              "      <td>Nicosia 2013 Vulkà Bianco  (Etna)</td>\n",
              "      <td>White Blend</td>\n",
              "      <td>Nicosia</td>\n",
              "    </tr>\n",
              "    <tr>\n",
              "      <th>1</th>\n",
              "      <td>Portugal</td>\n",
              "      <td>This is ripe and fruity, a wine that is smooth...</td>\n",
              "      <td>87</td>\n",
              "      <td>15.0</td>\n",
              "      <td>Douro</td>\n",
              "      <td>Quinta dos Avidagos 2011 Avidagos Red (Douro)</td>\n",
              "      <td>Portuguese Red</td>\n",
              "      <td>Quinta dos Avidagos</td>\n",
              "    </tr>\n",
              "    <tr>\n",
              "      <th>2</th>\n",
              "      <td>US</td>\n",
              "      <td>Tart and snappy, the flavors of lime flesh and...</td>\n",
              "      <td>87</td>\n",
              "      <td>14.0</td>\n",
              "      <td>Oregon</td>\n",
              "      <td>Rainstorm 2013 Pinot Gris (Willamette Valley)</td>\n",
              "      <td>Pinot Gris</td>\n",
              "      <td>Rainstorm</td>\n",
              "    </tr>\n",
              "    <tr>\n",
              "      <th>3</th>\n",
              "      <td>US</td>\n",
              "      <td>Pineapple rind, lemon pith and orange blossom ...</td>\n",
              "      <td>87</td>\n",
              "      <td>13.0</td>\n",
              "      <td>Michigan</td>\n",
              "      <td>St. Julian 2013 Reserve Late Harvest Riesling ...</td>\n",
              "      <td>Riesling</td>\n",
              "      <td>St. Julian</td>\n",
              "    </tr>\n",
              "    <tr>\n",
              "      <th>4</th>\n",
              "      <td>US</td>\n",
              "      <td>Much like the regular bottling from 2012, this...</td>\n",
              "      <td>87</td>\n",
              "      <td>65.0</td>\n",
              "      <td>Oregon</td>\n",
              "      <td>Sweet Cheeks 2012 Vintner's Reserve Wild Child...</td>\n",
              "      <td>Pinot Noir</td>\n",
              "      <td>Sweet Cheeks</td>\n",
              "    </tr>\n",
              "    <tr>\n",
              "      <th>...</th>\n",
              "      <td>...</td>\n",
              "      <td>...</td>\n",
              "      <td>...</td>\n",
              "      <td>...</td>\n",
              "      <td>...</td>\n",
              "      <td>...</td>\n",
              "      <td>...</td>\n",
              "      <td>...</td>\n",
              "    </tr>\n",
              "    <tr>\n",
              "      <th>129966</th>\n",
              "      <td>Germany</td>\n",
              "      <td>Notes of honeysuckle and cantaloupe sweeten th...</td>\n",
              "      <td>90</td>\n",
              "      <td>28.0</td>\n",
              "      <td>Mosel</td>\n",
              "      <td>Dr. H. Thanisch (Erben Müller-Burggraef) 2013 ...</td>\n",
              "      <td>Riesling</td>\n",
              "      <td>Dr. H. Thanisch (Erben Müller-Burggraef)</td>\n",
              "    </tr>\n",
              "    <tr>\n",
              "      <th>129967</th>\n",
              "      <td>US</td>\n",
              "      <td>Citation is given as much as a decade of bottl...</td>\n",
              "      <td>90</td>\n",
              "      <td>75.0</td>\n",
              "      <td>Oregon</td>\n",
              "      <td>Citation 2004 Pinot Noir (Oregon)</td>\n",
              "      <td>Pinot Noir</td>\n",
              "      <td>Citation</td>\n",
              "    </tr>\n",
              "    <tr>\n",
              "      <th>129968</th>\n",
              "      <td>France</td>\n",
              "      <td>Well-drained gravel soil gives this wine its c...</td>\n",
              "      <td>90</td>\n",
              "      <td>30.0</td>\n",
              "      <td>Alsace</td>\n",
              "      <td>Domaine Gresser 2013 Kritt Gewurztraminer (Als...</td>\n",
              "      <td>Gewürztraminer</td>\n",
              "      <td>Domaine Gresser</td>\n",
              "    </tr>\n",
              "    <tr>\n",
              "      <th>129969</th>\n",
              "      <td>France</td>\n",
              "      <td>A dry style of Pinot Gris, this is crisp with ...</td>\n",
              "      <td>90</td>\n",
              "      <td>32.0</td>\n",
              "      <td>Alsace</td>\n",
              "      <td>Domaine Marcel Deiss 2012 Pinot Gris (Alsace)</td>\n",
              "      <td>Pinot Gris</td>\n",
              "      <td>Domaine Marcel Deiss</td>\n",
              "    </tr>\n",
              "    <tr>\n",
              "      <th>129970</th>\n",
              "      <td>France</td>\n",
              "      <td>Big, rich and off-dry, this is powered by inte...</td>\n",
              "      <td>90</td>\n",
              "      <td>21.0</td>\n",
              "      <td>Alsace</td>\n",
              "      <td>Domaine Schoffit 2012 Lieu-dit Harth Cuvée Car...</td>\n",
              "      <td>Gewürztraminer</td>\n",
              "      <td>Domaine Schoffit</td>\n",
              "    </tr>\n",
              "  </tbody>\n",
              "</table>\n",
              "<p>129971 rows × 8 columns</p>\n",
              "</div>\n",
              "      <button class=\"colab-df-convert\" onclick=\"convertToInteractive('df-3af58211-6b51-4bca-9b84-4bae1a4084fd')\"\n",
              "              title=\"Convert this dataframe to an interactive table.\"\n",
              "              style=\"display:none;\">\n",
              "        \n",
              "  <svg xmlns=\"http://www.w3.org/2000/svg\" height=\"24px\"viewBox=\"0 0 24 24\"\n",
              "       width=\"24px\">\n",
              "    <path d=\"M0 0h24v24H0V0z\" fill=\"none\"/>\n",
              "    <path d=\"M18.56 5.44l.94 2.06.94-2.06 2.06-.94-2.06-.94-.94-2.06-.94 2.06-2.06.94zm-11 1L8.5 8.5l.94-2.06 2.06-.94-2.06-.94L8.5 2.5l-.94 2.06-2.06.94zm10 10l.94 2.06.94-2.06 2.06-.94-2.06-.94-.94-2.06-.94 2.06-2.06.94z\"/><path d=\"M17.41 7.96l-1.37-1.37c-.4-.4-.92-.59-1.43-.59-.52 0-1.04.2-1.43.59L10.3 9.45l-7.72 7.72c-.78.78-.78 2.05 0 2.83L4 21.41c.39.39.9.59 1.41.59.51 0 1.02-.2 1.41-.59l7.78-7.78 2.81-2.81c.8-.78.8-2.07 0-2.86zM5.41 20L4 18.59l7.72-7.72 1.47 1.35L5.41 20z\"/>\n",
              "  </svg>\n",
              "      </button>\n",
              "      \n",
              "  <style>\n",
              "    .colab-df-container {\n",
              "      display:flex;\n",
              "      flex-wrap:wrap;\n",
              "      gap: 12px;\n",
              "    }\n",
              "\n",
              "    .colab-df-convert {\n",
              "      background-color: #E8F0FE;\n",
              "      border: none;\n",
              "      border-radius: 50%;\n",
              "      cursor: pointer;\n",
              "      display: none;\n",
              "      fill: #1967D2;\n",
              "      height: 32px;\n",
              "      padding: 0 0 0 0;\n",
              "      width: 32px;\n",
              "    }\n",
              "\n",
              "    .colab-df-convert:hover {\n",
              "      background-color: #E2EBFA;\n",
              "      box-shadow: 0px 1px 2px rgba(60, 64, 67, 0.3), 0px 1px 3px 1px rgba(60, 64, 67, 0.15);\n",
              "      fill: #174EA6;\n",
              "    }\n",
              "\n",
              "    [theme=dark] .colab-df-convert {\n",
              "      background-color: #3B4455;\n",
              "      fill: #D2E3FC;\n",
              "    }\n",
              "\n",
              "    [theme=dark] .colab-df-convert:hover {\n",
              "      background-color: #434B5C;\n",
              "      box-shadow: 0px 1px 3px 1px rgba(0, 0, 0, 0.15);\n",
              "      filter: drop-shadow(0px 1px 2px rgba(0, 0, 0, 0.3));\n",
              "      fill: #FFFFFF;\n",
              "    }\n",
              "  </style>\n",
              "\n",
              "      <script>\n",
              "        const buttonEl =\n",
              "          document.querySelector('#df-3af58211-6b51-4bca-9b84-4bae1a4084fd button.colab-df-convert');\n",
              "        buttonEl.style.display =\n",
              "          google.colab.kernel.accessAllowed ? 'block' : 'none';\n",
              "\n",
              "        async function convertToInteractive(key) {\n",
              "          const element = document.querySelector('#df-3af58211-6b51-4bca-9b84-4bae1a4084fd');\n",
              "          const dataTable =\n",
              "            await google.colab.kernel.invokeFunction('convertToInteractive',\n",
              "                                                     [key], {});\n",
              "          if (!dataTable) return;\n",
              "\n",
              "          const docLinkHtml = 'Like what you see? Visit the ' +\n",
              "            '<a target=\"_blank\" href=https://colab.research.google.com/notebooks/data_table.ipynb>data table notebook</a>'\n",
              "            + ' to learn more about interactive tables.';\n",
              "          element.innerHTML = '';\n",
              "          dataTable['output_type'] = 'display_data';\n",
              "          await google.colab.output.renderOutput(dataTable, element);\n",
              "          const docLink = document.createElement('div');\n",
              "          docLink.innerHTML = docLinkHtml;\n",
              "          element.appendChild(docLink);\n",
              "        }\n",
              "      </script>\n",
              "    </div>\n",
              "  </div>\n",
              "  "
            ]
          },
          "metadata": {},
          "execution_count": 48
        }
      ],
      "source": [
        "vinhos_2.dropna(how='all')"
      ]
    },
    {
      "cell_type": "code",
      "execution_count": 49,
      "metadata": {
        "id": "1Ff2FJ-0U2Pm",
        "colab": {
          "base_uri": "https://localhost:8080/"
        },
        "outputId": "ec3270ff-3158-4a2d-f872-686bab3665fd"
      },
      "outputs": [
        {
          "output_type": "execute_result",
          "data": {
            "text/plain": [
              "variety      1\n",
              "country     63\n",
              "province    63\n",
              "dtype: int64"
            ]
          },
          "metadata": {},
          "execution_count": 49
        }
      ],
      "source": [
        "df = vinhos_2.copy() \n",
        "df.isna().sum().loc[df.isna().sum()>0].sort_values()"
      ]
    },
    {
      "cell_type": "markdown",
      "metadata": {
        "id": "EmMrEX15fmZk"
      },
      "source": [
        "Na variety, irei descobrir a moda e colocarei o valor nulo."
      ]
    },
    {
      "cell_type": "code",
      "execution_count": 50,
      "metadata": {
        "id": "Jee_vdC6fa4W",
        "colab": {
          "base_uri": "https://localhost:8080/"
        },
        "outputId": "da69161c-1f19-436a-f935-f603b4c691f0"
      },
      "outputs": [
        {
          "output_type": "execute_result",
          "data": {
            "text/plain": [
              "0    Pinot Noir\n",
              "dtype: object"
            ]
          },
          "metadata": {},
          "execution_count": 50
        }
      ],
      "source": [
        "vinhos_2['variety'].mode()"
      ]
    },
    {
      "cell_type": "code",
      "execution_count": 51,
      "metadata": {
        "id": "Ir_a7MrTfgK3"
      },
      "outputs": [],
      "source": [
        "vinhos_2.loc[pd.Series(vinhos_2.variety.isna()), 'variety'] = 'Pinot Noir'"
      ]
    },
    {
      "cell_type": "markdown",
      "metadata": {
        "id": "UodbgBvE4UqN"
      },
      "source": [
        "Verificando o que permanece nulo."
      ]
    },
    {
      "cell_type": "code",
      "execution_count": 52,
      "metadata": {
        "id": "H8DNAlJFfzuq",
        "colab": {
          "base_uri": "https://localhost:8080/"
        },
        "outputId": "f45d938a-c72e-4090-9966-e62f1b3e8467"
      },
      "outputs": [
        {
          "output_type": "execute_result",
          "data": {
            "text/plain": [
              "country     63\n",
              "province    63\n",
              "dtype: int64"
            ]
          },
          "metadata": {},
          "execution_count": 52
        }
      ],
      "source": [
        "df = vinhos_2.copy() \n",
        "df.isna().sum().loc[df.isna().sum()>0].sort_values()"
      ]
    },
    {
      "cell_type": "markdown",
      "metadata": {
        "id": "PrBOAeGf4a8F"
      },
      "source": [
        "Excluindo o restante."
      ]
    },
    {
      "cell_type": "code",
      "execution_count": 53,
      "metadata": {
        "id": "gNfcLN-dht7w"
      },
      "outputs": [],
      "source": [
        "vinhos_2.dropna(inplace=True)"
      ]
    },
    {
      "cell_type": "code",
      "execution_count": 54,
      "metadata": {
        "id": "5C8NGIeBgrtI",
        "colab": {
          "base_uri": "https://localhost:8080/"
        },
        "outputId": "f6eb7c34-53fd-4f01-b3d6-a1e4ba47fe85"
      },
      "outputs": [
        {
          "output_type": "stream",
          "name": "stdout",
          "text": [
            "<class 'pandas.core.frame.DataFrame'>\n",
            "Int64Index: 129908 entries, 0 to 129970\n",
            "Data columns (total 8 columns):\n",
            " #   Column       Non-Null Count   Dtype  \n",
            "---  ------       --------------   -----  \n",
            " 0   country      129908 non-null  object \n",
            " 1   description  129908 non-null  object \n",
            " 2   points       129908 non-null  int64  \n",
            " 3   price        129908 non-null  float64\n",
            " 4   province     129908 non-null  object \n",
            " 5   title        129908 non-null  object \n",
            " 6   variety      129908 non-null  object \n",
            " 7   winery       129908 non-null  object \n",
            "dtypes: float64(1), int64(1), object(6)\n",
            "memory usage: 8.9+ MB\n"
          ]
        }
      ],
      "source": [
        "vinhos_2.info()"
      ]
    },
    {
      "cell_type": "code",
      "execution_count": 55,
      "metadata": {
        "id": "DpZauh4-IdfM",
        "colab": {
          "base_uri": "https://localhost:8080/",
          "height": 300
        },
        "outputId": "a26453de-e867-48c8-cb89-382e9f900ba7"
      },
      "outputs": [
        {
          "output_type": "execute_result",
          "data": {
            "text/plain": [
              "              points          price\n",
              "count  129908.000000  129908.000000\n",
              "mean       88.447047      34.650945\n",
              "std         3.040066      39.672922\n",
              "min        80.000000       4.000000\n",
              "25%        86.000000      18.000000\n",
              "50%        88.000000      25.000000\n",
              "75%        91.000000      40.000000\n",
              "max       100.000000    3300.000000"
            ],
            "text/html": [
              "\n",
              "  <div id=\"df-d0a48643-9e25-4050-85bf-9ae7014a8fa4\">\n",
              "    <div class=\"colab-df-container\">\n",
              "      <div>\n",
              "<style scoped>\n",
              "    .dataframe tbody tr th:only-of-type {\n",
              "        vertical-align: middle;\n",
              "    }\n",
              "\n",
              "    .dataframe tbody tr th {\n",
              "        vertical-align: top;\n",
              "    }\n",
              "\n",
              "    .dataframe thead th {\n",
              "        text-align: right;\n",
              "    }\n",
              "</style>\n",
              "<table border=\"1\" class=\"dataframe\">\n",
              "  <thead>\n",
              "    <tr style=\"text-align: right;\">\n",
              "      <th></th>\n",
              "      <th>points</th>\n",
              "      <th>price</th>\n",
              "    </tr>\n",
              "  </thead>\n",
              "  <tbody>\n",
              "    <tr>\n",
              "      <th>count</th>\n",
              "      <td>129908.000000</td>\n",
              "      <td>129908.000000</td>\n",
              "    </tr>\n",
              "    <tr>\n",
              "      <th>mean</th>\n",
              "      <td>88.447047</td>\n",
              "      <td>34.650945</td>\n",
              "    </tr>\n",
              "    <tr>\n",
              "      <th>std</th>\n",
              "      <td>3.040066</td>\n",
              "      <td>39.672922</td>\n",
              "    </tr>\n",
              "    <tr>\n",
              "      <th>min</th>\n",
              "      <td>80.000000</td>\n",
              "      <td>4.000000</td>\n",
              "    </tr>\n",
              "    <tr>\n",
              "      <th>25%</th>\n",
              "      <td>86.000000</td>\n",
              "      <td>18.000000</td>\n",
              "    </tr>\n",
              "    <tr>\n",
              "      <th>50%</th>\n",
              "      <td>88.000000</td>\n",
              "      <td>25.000000</td>\n",
              "    </tr>\n",
              "    <tr>\n",
              "      <th>75%</th>\n",
              "      <td>91.000000</td>\n",
              "      <td>40.000000</td>\n",
              "    </tr>\n",
              "    <tr>\n",
              "      <th>max</th>\n",
              "      <td>100.000000</td>\n",
              "      <td>3300.000000</td>\n",
              "    </tr>\n",
              "  </tbody>\n",
              "</table>\n",
              "</div>\n",
              "      <button class=\"colab-df-convert\" onclick=\"convertToInteractive('df-d0a48643-9e25-4050-85bf-9ae7014a8fa4')\"\n",
              "              title=\"Convert this dataframe to an interactive table.\"\n",
              "              style=\"display:none;\">\n",
              "        \n",
              "  <svg xmlns=\"http://www.w3.org/2000/svg\" height=\"24px\"viewBox=\"0 0 24 24\"\n",
              "       width=\"24px\">\n",
              "    <path d=\"M0 0h24v24H0V0z\" fill=\"none\"/>\n",
              "    <path d=\"M18.56 5.44l.94 2.06.94-2.06 2.06-.94-2.06-.94-.94-2.06-.94 2.06-2.06.94zm-11 1L8.5 8.5l.94-2.06 2.06-.94-2.06-.94L8.5 2.5l-.94 2.06-2.06.94zm10 10l.94 2.06.94-2.06 2.06-.94-2.06-.94-.94-2.06-.94 2.06-2.06.94z\"/><path d=\"M17.41 7.96l-1.37-1.37c-.4-.4-.92-.59-1.43-.59-.52 0-1.04.2-1.43.59L10.3 9.45l-7.72 7.72c-.78.78-.78 2.05 0 2.83L4 21.41c.39.39.9.59 1.41.59.51 0 1.02-.2 1.41-.59l7.78-7.78 2.81-2.81c.8-.78.8-2.07 0-2.86zM5.41 20L4 18.59l7.72-7.72 1.47 1.35L5.41 20z\"/>\n",
              "  </svg>\n",
              "      </button>\n",
              "      \n",
              "  <style>\n",
              "    .colab-df-container {\n",
              "      display:flex;\n",
              "      flex-wrap:wrap;\n",
              "      gap: 12px;\n",
              "    }\n",
              "\n",
              "    .colab-df-convert {\n",
              "      background-color: #E8F0FE;\n",
              "      border: none;\n",
              "      border-radius: 50%;\n",
              "      cursor: pointer;\n",
              "      display: none;\n",
              "      fill: #1967D2;\n",
              "      height: 32px;\n",
              "      padding: 0 0 0 0;\n",
              "      width: 32px;\n",
              "    }\n",
              "\n",
              "    .colab-df-convert:hover {\n",
              "      background-color: #E2EBFA;\n",
              "      box-shadow: 0px 1px 2px rgba(60, 64, 67, 0.3), 0px 1px 3px 1px rgba(60, 64, 67, 0.15);\n",
              "      fill: #174EA6;\n",
              "    }\n",
              "\n",
              "    [theme=dark] .colab-df-convert {\n",
              "      background-color: #3B4455;\n",
              "      fill: #D2E3FC;\n",
              "    }\n",
              "\n",
              "    [theme=dark] .colab-df-convert:hover {\n",
              "      background-color: #434B5C;\n",
              "      box-shadow: 0px 1px 3px 1px rgba(0, 0, 0, 0.15);\n",
              "      filter: drop-shadow(0px 1px 2px rgba(0, 0, 0, 0.3));\n",
              "      fill: #FFFFFF;\n",
              "    }\n",
              "  </style>\n",
              "\n",
              "      <script>\n",
              "        const buttonEl =\n",
              "          document.querySelector('#df-d0a48643-9e25-4050-85bf-9ae7014a8fa4 button.colab-df-convert');\n",
              "        buttonEl.style.display =\n",
              "          google.colab.kernel.accessAllowed ? 'block' : 'none';\n",
              "\n",
              "        async function convertToInteractive(key) {\n",
              "          const element = document.querySelector('#df-d0a48643-9e25-4050-85bf-9ae7014a8fa4');\n",
              "          const dataTable =\n",
              "            await google.colab.kernel.invokeFunction('convertToInteractive',\n",
              "                                                     [key], {});\n",
              "          if (!dataTable) return;\n",
              "\n",
              "          const docLinkHtml = 'Like what you see? Visit the ' +\n",
              "            '<a target=\"_blank\" href=https://colab.research.google.com/notebooks/data_table.ipynb>data table notebook</a>'\n",
              "            + ' to learn more about interactive tables.';\n",
              "          element.innerHTML = '';\n",
              "          dataTable['output_type'] = 'display_data';\n",
              "          await google.colab.output.renderOutput(dataTable, element);\n",
              "          const docLink = document.createElement('div');\n",
              "          docLink.innerHTML = docLinkHtml;\n",
              "          element.appendChild(docLink);\n",
              "        }\n",
              "      </script>\n",
              "    </div>\n",
              "  </div>\n",
              "  "
            ]
          },
          "metadata": {},
          "execution_count": 55
        }
      ],
      "source": [
        "#verificando a estatistica desde dataset\n",
        "vinhos_2.describe()"
      ]
    },
    {
      "cell_type": "markdown",
      "metadata": {
        "id": "_uX2x9hGWxgb"
      },
      "source": [
        "# Qual o vinho mais caro?\n"
      ]
    },
    {
      "cell_type": "code",
      "execution_count": 56,
      "metadata": {
        "id": "6dOg174hXsl8",
        "colab": {
          "base_uri": "https://localhost:8080/",
          "height": 0
        },
        "outputId": "bd81a8be-6b13-47ad-961c-4d7baca3f4d8"
      },
      "outputs": [
        {
          "output_type": "execute_result",
          "data": {
            "text/plain": [
              "      country                                        description  points  \\\n",
              "80290  France  This ripe wine shows plenty of blackberry frui...      88   \n",
              "\n",
              "        price  province                                 title  \\\n",
              "80290  3300.0  Bordeaux  Château les Ormes Sorbet 2013  Médoc   \n",
              "\n",
              "                        variety                    winery  \n",
              "80290  Bordeaux-style Red Blend  Château les Ormes Sorbet  "
            ],
            "text/html": [
              "\n",
              "  <div id=\"df-9c3ea4da-c56a-4e76-874d-7b8d1b391878\">\n",
              "    <div class=\"colab-df-container\">\n",
              "      <div>\n",
              "<style scoped>\n",
              "    .dataframe tbody tr th:only-of-type {\n",
              "        vertical-align: middle;\n",
              "    }\n",
              "\n",
              "    .dataframe tbody tr th {\n",
              "        vertical-align: top;\n",
              "    }\n",
              "\n",
              "    .dataframe thead th {\n",
              "        text-align: right;\n",
              "    }\n",
              "</style>\n",
              "<table border=\"1\" class=\"dataframe\">\n",
              "  <thead>\n",
              "    <tr style=\"text-align: right;\">\n",
              "      <th></th>\n",
              "      <th>country</th>\n",
              "      <th>description</th>\n",
              "      <th>points</th>\n",
              "      <th>price</th>\n",
              "      <th>province</th>\n",
              "      <th>title</th>\n",
              "      <th>variety</th>\n",
              "      <th>winery</th>\n",
              "    </tr>\n",
              "  </thead>\n",
              "  <tbody>\n",
              "    <tr>\n",
              "      <th>80290</th>\n",
              "      <td>France</td>\n",
              "      <td>This ripe wine shows plenty of blackberry frui...</td>\n",
              "      <td>88</td>\n",
              "      <td>3300.0</td>\n",
              "      <td>Bordeaux</td>\n",
              "      <td>Château les Ormes Sorbet 2013  Médoc</td>\n",
              "      <td>Bordeaux-style Red Blend</td>\n",
              "      <td>Château les Ormes Sorbet</td>\n",
              "    </tr>\n",
              "  </tbody>\n",
              "</table>\n",
              "</div>\n",
              "      <button class=\"colab-df-convert\" onclick=\"convertToInteractive('df-9c3ea4da-c56a-4e76-874d-7b8d1b391878')\"\n",
              "              title=\"Convert this dataframe to an interactive table.\"\n",
              "              style=\"display:none;\">\n",
              "        \n",
              "  <svg xmlns=\"http://www.w3.org/2000/svg\" height=\"24px\"viewBox=\"0 0 24 24\"\n",
              "       width=\"24px\">\n",
              "    <path d=\"M0 0h24v24H0V0z\" fill=\"none\"/>\n",
              "    <path d=\"M18.56 5.44l.94 2.06.94-2.06 2.06-.94-2.06-.94-.94-2.06-.94 2.06-2.06.94zm-11 1L8.5 8.5l.94-2.06 2.06-.94-2.06-.94L8.5 2.5l-.94 2.06-2.06.94zm10 10l.94 2.06.94-2.06 2.06-.94-2.06-.94-.94-2.06-.94 2.06-2.06.94z\"/><path d=\"M17.41 7.96l-1.37-1.37c-.4-.4-.92-.59-1.43-.59-.52 0-1.04.2-1.43.59L10.3 9.45l-7.72 7.72c-.78.78-.78 2.05 0 2.83L4 21.41c.39.39.9.59 1.41.59.51 0 1.02-.2 1.41-.59l7.78-7.78 2.81-2.81c.8-.78.8-2.07 0-2.86zM5.41 20L4 18.59l7.72-7.72 1.47 1.35L5.41 20z\"/>\n",
              "  </svg>\n",
              "      </button>\n",
              "      \n",
              "  <style>\n",
              "    .colab-df-container {\n",
              "      display:flex;\n",
              "      flex-wrap:wrap;\n",
              "      gap: 12px;\n",
              "    }\n",
              "\n",
              "    .colab-df-convert {\n",
              "      background-color: #E8F0FE;\n",
              "      border: none;\n",
              "      border-radius: 50%;\n",
              "      cursor: pointer;\n",
              "      display: none;\n",
              "      fill: #1967D2;\n",
              "      height: 32px;\n",
              "      padding: 0 0 0 0;\n",
              "      width: 32px;\n",
              "    }\n",
              "\n",
              "    .colab-df-convert:hover {\n",
              "      background-color: #E2EBFA;\n",
              "      box-shadow: 0px 1px 2px rgba(60, 64, 67, 0.3), 0px 1px 3px 1px rgba(60, 64, 67, 0.15);\n",
              "      fill: #174EA6;\n",
              "    }\n",
              "\n",
              "    [theme=dark] .colab-df-convert {\n",
              "      background-color: #3B4455;\n",
              "      fill: #D2E3FC;\n",
              "    }\n",
              "\n",
              "    [theme=dark] .colab-df-convert:hover {\n",
              "      background-color: #434B5C;\n",
              "      box-shadow: 0px 1px 3px 1px rgba(0, 0, 0, 0.15);\n",
              "      filter: drop-shadow(0px 1px 2px rgba(0, 0, 0, 0.3));\n",
              "      fill: #FFFFFF;\n",
              "    }\n",
              "  </style>\n",
              "\n",
              "      <script>\n",
              "        const buttonEl =\n",
              "          document.querySelector('#df-9c3ea4da-c56a-4e76-874d-7b8d1b391878 button.colab-df-convert');\n",
              "        buttonEl.style.display =\n",
              "          google.colab.kernel.accessAllowed ? 'block' : 'none';\n",
              "\n",
              "        async function convertToInteractive(key) {\n",
              "          const element = document.querySelector('#df-9c3ea4da-c56a-4e76-874d-7b8d1b391878');\n",
              "          const dataTable =\n",
              "            await google.colab.kernel.invokeFunction('convertToInteractive',\n",
              "                                                     [key], {});\n",
              "          if (!dataTable) return;\n",
              "\n",
              "          const docLinkHtml = 'Like what you see? Visit the ' +\n",
              "            '<a target=\"_blank\" href=https://colab.research.google.com/notebooks/data_table.ipynb>data table notebook</a>'\n",
              "            + ' to learn more about interactive tables.';\n",
              "          element.innerHTML = '';\n",
              "          dataTable['output_type'] = 'display_data';\n",
              "          await google.colab.output.renderOutput(dataTable, element);\n",
              "          const docLink = document.createElement('div');\n",
              "          docLink.innerHTML = docLinkHtml;\n",
              "          element.appendChild(docLink);\n",
              "        }\n",
              "      </script>\n",
              "    </div>\n",
              "  </div>\n",
              "  "
            ]
          },
          "metadata": {},
          "execution_count": 56
        }
      ],
      "source": [
        "#Utilizando os valores do describe.\n",
        "maior = vinhos_2.loc[vinhos_2['price']==3300]\n",
        "maior"
      ]
    },
    {
      "cell_type": "markdown",
      "metadata": {
        "id": "wtET_qDuYjbT"
      },
      "source": [
        "# Qual o Vinho mais barato? Neste caso foram varios."
      ]
    },
    {
      "cell_type": "code",
      "execution_count": 57,
      "metadata": {
        "id": "kNca1LOXYIHj",
        "colab": {
          "base_uri": "https://localhost:8080/",
          "height": 0
        },
        "outputId": "b74152be-76e7-476c-a518-25d4c1b3a93d"
      },
      "outputs": [
        {
          "output_type": "execute_result",
          "data": {
            "text/plain": [
              "          country                                        description  points  \\\n",
              "1987        Spain  Berry and cherry aromas are surprisingly sturd...      85   \n",
              "20484          US  Fruity, soft and rather sweet, this wine smell...      85   \n",
              "29553   Argentina  Crimson in color but also translucent, with a ...      84   \n",
              "31530          US  Packaged in a cute yellow recyclable Tetrapak,...      84   \n",
              "59507          US  Sweet and fruity, this canned wine feels soft ...      83   \n",
              "61768       Spain  This opens with standard cherry and berry arom...      84   \n",
              "64590          US  There's a lot going on in this Merlot, which i...      86   \n",
              "110255         US  A good everyday Merlot, dry and rich in tannin...      84   \n",
              "112919      Spain  Nice on the nose, this has a leafy note and a ...      84   \n",
              "117303      Spain  Tropical fruit and citrus aromas aren't bad, b...      82   \n",
              "126096    Romania  Notes of sun-dried hay and green flower highli...      86   \n",
              "\n",
              "        price          province  \\\n",
              "1987      4.0     Central Spain   \n",
              "20484     4.0        California   \n",
              "29553     4.0  Mendoza Province   \n",
              "31530     4.0        California   \n",
              "59507     4.0        California   \n",
              "61768     4.0           Levante   \n",
              "64590     4.0        California   \n",
              "110255    4.0        California   \n",
              "112919    4.0           Levante   \n",
              "117303    4.0     Central Spain   \n",
              "126096    4.0   Viile Timisului   \n",
              "\n",
              "                                                    title             variety  \\\n",
              "1987    Felix Solis 2013 Flirty Bird Syrah (Vino de la...               Syrah   \n",
              "20484              Dancing Coyote 2015 White (Clarksburg)         White Blend   \n",
              "29553           Broke Ass 2009 Red Malbec-Syrah (Mendoza)        Malbec-Syrah   \n",
              "31530                   Bandit NV Chardonnay (California)          Chardonnay   \n",
              "59507     Pam's Cuties NV Unoaked Chardonnay (California)          Chardonnay   \n",
              "61768            Terrenal 2010 Cabernet Sauvignon (Yecla)  Cabernet Sauvignon   \n",
              "64590                       Bandit NV Merlot (California)              Merlot   \n",
              "110255                      Bandit NV Merlot (California)              Merlot   \n",
              "112919   Terrenal 2010 Estate Bottled Tempranillo (Yecla)         Tempranillo   \n",
              "117303  Felix Solis 2012 Flirty Bird White (Vino de la...         White Blend   \n",
              "126096  Cramele Recas 2011 UnWineD Pinot Grigio (Viile...        Pinot Grigio   \n",
              "\n",
              "                winery  \n",
              "1987       Felix Solis  \n",
              "20484   Dancing Coyote  \n",
              "29553        Broke Ass  \n",
              "31530           Bandit  \n",
              "59507     Pam's Cuties  \n",
              "61768         Terrenal  \n",
              "64590           Bandit  \n",
              "110255          Bandit  \n",
              "112919        Terrenal  \n",
              "117303     Felix Solis  \n",
              "126096   Cramele Recas  "
            ],
            "text/html": [
              "\n",
              "  <div id=\"df-a1e3d0a5-7aac-45bc-be48-781937db284b\">\n",
              "    <div class=\"colab-df-container\">\n",
              "      <div>\n",
              "<style scoped>\n",
              "    .dataframe tbody tr th:only-of-type {\n",
              "        vertical-align: middle;\n",
              "    }\n",
              "\n",
              "    .dataframe tbody tr th {\n",
              "        vertical-align: top;\n",
              "    }\n",
              "\n",
              "    .dataframe thead th {\n",
              "        text-align: right;\n",
              "    }\n",
              "</style>\n",
              "<table border=\"1\" class=\"dataframe\">\n",
              "  <thead>\n",
              "    <tr style=\"text-align: right;\">\n",
              "      <th></th>\n",
              "      <th>country</th>\n",
              "      <th>description</th>\n",
              "      <th>points</th>\n",
              "      <th>price</th>\n",
              "      <th>province</th>\n",
              "      <th>title</th>\n",
              "      <th>variety</th>\n",
              "      <th>winery</th>\n",
              "    </tr>\n",
              "  </thead>\n",
              "  <tbody>\n",
              "    <tr>\n",
              "      <th>1987</th>\n",
              "      <td>Spain</td>\n",
              "      <td>Berry and cherry aromas are surprisingly sturd...</td>\n",
              "      <td>85</td>\n",
              "      <td>4.0</td>\n",
              "      <td>Central Spain</td>\n",
              "      <td>Felix Solis 2013 Flirty Bird Syrah (Vino de la...</td>\n",
              "      <td>Syrah</td>\n",
              "      <td>Felix Solis</td>\n",
              "    </tr>\n",
              "    <tr>\n",
              "      <th>20484</th>\n",
              "      <td>US</td>\n",
              "      <td>Fruity, soft and rather sweet, this wine smell...</td>\n",
              "      <td>85</td>\n",
              "      <td>4.0</td>\n",
              "      <td>California</td>\n",
              "      <td>Dancing Coyote 2015 White (Clarksburg)</td>\n",
              "      <td>White Blend</td>\n",
              "      <td>Dancing Coyote</td>\n",
              "    </tr>\n",
              "    <tr>\n",
              "      <th>29553</th>\n",
              "      <td>Argentina</td>\n",
              "      <td>Crimson in color but also translucent, with a ...</td>\n",
              "      <td>84</td>\n",
              "      <td>4.0</td>\n",
              "      <td>Mendoza Province</td>\n",
              "      <td>Broke Ass 2009 Red Malbec-Syrah (Mendoza)</td>\n",
              "      <td>Malbec-Syrah</td>\n",
              "      <td>Broke Ass</td>\n",
              "    </tr>\n",
              "    <tr>\n",
              "      <th>31530</th>\n",
              "      <td>US</td>\n",
              "      <td>Packaged in a cute yellow recyclable Tetrapak,...</td>\n",
              "      <td>84</td>\n",
              "      <td>4.0</td>\n",
              "      <td>California</td>\n",
              "      <td>Bandit NV Chardonnay (California)</td>\n",
              "      <td>Chardonnay</td>\n",
              "      <td>Bandit</td>\n",
              "    </tr>\n",
              "    <tr>\n",
              "      <th>59507</th>\n",
              "      <td>US</td>\n",
              "      <td>Sweet and fruity, this canned wine feels soft ...</td>\n",
              "      <td>83</td>\n",
              "      <td>4.0</td>\n",
              "      <td>California</td>\n",
              "      <td>Pam's Cuties NV Unoaked Chardonnay (California)</td>\n",
              "      <td>Chardonnay</td>\n",
              "      <td>Pam's Cuties</td>\n",
              "    </tr>\n",
              "    <tr>\n",
              "      <th>61768</th>\n",
              "      <td>Spain</td>\n",
              "      <td>This opens with standard cherry and berry arom...</td>\n",
              "      <td>84</td>\n",
              "      <td>4.0</td>\n",
              "      <td>Levante</td>\n",
              "      <td>Terrenal 2010 Cabernet Sauvignon (Yecla)</td>\n",
              "      <td>Cabernet Sauvignon</td>\n",
              "      <td>Terrenal</td>\n",
              "    </tr>\n",
              "    <tr>\n",
              "      <th>64590</th>\n",
              "      <td>US</td>\n",
              "      <td>There's a lot going on in this Merlot, which i...</td>\n",
              "      <td>86</td>\n",
              "      <td>4.0</td>\n",
              "      <td>California</td>\n",
              "      <td>Bandit NV Merlot (California)</td>\n",
              "      <td>Merlot</td>\n",
              "      <td>Bandit</td>\n",
              "    </tr>\n",
              "    <tr>\n",
              "      <th>110255</th>\n",
              "      <td>US</td>\n",
              "      <td>A good everyday Merlot, dry and rich in tannin...</td>\n",
              "      <td>84</td>\n",
              "      <td>4.0</td>\n",
              "      <td>California</td>\n",
              "      <td>Bandit NV Merlot (California)</td>\n",
              "      <td>Merlot</td>\n",
              "      <td>Bandit</td>\n",
              "    </tr>\n",
              "    <tr>\n",
              "      <th>112919</th>\n",
              "      <td>Spain</td>\n",
              "      <td>Nice on the nose, this has a leafy note and a ...</td>\n",
              "      <td>84</td>\n",
              "      <td>4.0</td>\n",
              "      <td>Levante</td>\n",
              "      <td>Terrenal 2010 Estate Bottled Tempranillo (Yecla)</td>\n",
              "      <td>Tempranillo</td>\n",
              "      <td>Terrenal</td>\n",
              "    </tr>\n",
              "    <tr>\n",
              "      <th>117303</th>\n",
              "      <td>Spain</td>\n",
              "      <td>Tropical fruit and citrus aromas aren't bad, b...</td>\n",
              "      <td>82</td>\n",
              "      <td>4.0</td>\n",
              "      <td>Central Spain</td>\n",
              "      <td>Felix Solis 2012 Flirty Bird White (Vino de la...</td>\n",
              "      <td>White Blend</td>\n",
              "      <td>Felix Solis</td>\n",
              "    </tr>\n",
              "    <tr>\n",
              "      <th>126096</th>\n",
              "      <td>Romania</td>\n",
              "      <td>Notes of sun-dried hay and green flower highli...</td>\n",
              "      <td>86</td>\n",
              "      <td>4.0</td>\n",
              "      <td>Viile Timisului</td>\n",
              "      <td>Cramele Recas 2011 UnWineD Pinot Grigio (Viile...</td>\n",
              "      <td>Pinot Grigio</td>\n",
              "      <td>Cramele Recas</td>\n",
              "    </tr>\n",
              "  </tbody>\n",
              "</table>\n",
              "</div>\n",
              "      <button class=\"colab-df-convert\" onclick=\"convertToInteractive('df-a1e3d0a5-7aac-45bc-be48-781937db284b')\"\n",
              "              title=\"Convert this dataframe to an interactive table.\"\n",
              "              style=\"display:none;\">\n",
              "        \n",
              "  <svg xmlns=\"http://www.w3.org/2000/svg\" height=\"24px\"viewBox=\"0 0 24 24\"\n",
              "       width=\"24px\">\n",
              "    <path d=\"M0 0h24v24H0V0z\" fill=\"none\"/>\n",
              "    <path d=\"M18.56 5.44l.94 2.06.94-2.06 2.06-.94-2.06-.94-.94-2.06-.94 2.06-2.06.94zm-11 1L8.5 8.5l.94-2.06 2.06-.94-2.06-.94L8.5 2.5l-.94 2.06-2.06.94zm10 10l.94 2.06.94-2.06 2.06-.94-2.06-.94-.94-2.06-.94 2.06-2.06.94z\"/><path d=\"M17.41 7.96l-1.37-1.37c-.4-.4-.92-.59-1.43-.59-.52 0-1.04.2-1.43.59L10.3 9.45l-7.72 7.72c-.78.78-.78 2.05 0 2.83L4 21.41c.39.39.9.59 1.41.59.51 0 1.02-.2 1.41-.59l7.78-7.78 2.81-2.81c.8-.78.8-2.07 0-2.86zM5.41 20L4 18.59l7.72-7.72 1.47 1.35L5.41 20z\"/>\n",
              "  </svg>\n",
              "      </button>\n",
              "      \n",
              "  <style>\n",
              "    .colab-df-container {\n",
              "      display:flex;\n",
              "      flex-wrap:wrap;\n",
              "      gap: 12px;\n",
              "    }\n",
              "\n",
              "    .colab-df-convert {\n",
              "      background-color: #E8F0FE;\n",
              "      border: none;\n",
              "      border-radius: 50%;\n",
              "      cursor: pointer;\n",
              "      display: none;\n",
              "      fill: #1967D2;\n",
              "      height: 32px;\n",
              "      padding: 0 0 0 0;\n",
              "      width: 32px;\n",
              "    }\n",
              "\n",
              "    .colab-df-convert:hover {\n",
              "      background-color: #E2EBFA;\n",
              "      box-shadow: 0px 1px 2px rgba(60, 64, 67, 0.3), 0px 1px 3px 1px rgba(60, 64, 67, 0.15);\n",
              "      fill: #174EA6;\n",
              "    }\n",
              "\n",
              "    [theme=dark] .colab-df-convert {\n",
              "      background-color: #3B4455;\n",
              "      fill: #D2E3FC;\n",
              "    }\n",
              "\n",
              "    [theme=dark] .colab-df-convert:hover {\n",
              "      background-color: #434B5C;\n",
              "      box-shadow: 0px 1px 3px 1px rgba(0, 0, 0, 0.15);\n",
              "      filter: drop-shadow(0px 1px 2px rgba(0, 0, 0, 0.3));\n",
              "      fill: #FFFFFF;\n",
              "    }\n",
              "  </style>\n",
              "\n",
              "      <script>\n",
              "        const buttonEl =\n",
              "          document.querySelector('#df-a1e3d0a5-7aac-45bc-be48-781937db284b button.colab-df-convert');\n",
              "        buttonEl.style.display =\n",
              "          google.colab.kernel.accessAllowed ? 'block' : 'none';\n",
              "\n",
              "        async function convertToInteractive(key) {\n",
              "          const element = document.querySelector('#df-a1e3d0a5-7aac-45bc-be48-781937db284b');\n",
              "          const dataTable =\n",
              "            await google.colab.kernel.invokeFunction('convertToInteractive',\n",
              "                                                     [key], {});\n",
              "          if (!dataTable) return;\n",
              "\n",
              "          const docLinkHtml = 'Like what you see? Visit the ' +\n",
              "            '<a target=\"_blank\" href=https://colab.research.google.com/notebooks/data_table.ipynb>data table notebook</a>'\n",
              "            + ' to learn more about interactive tables.';\n",
              "          element.innerHTML = '';\n",
              "          dataTable['output_type'] = 'display_data';\n",
              "          await google.colab.output.renderOutput(dataTable, element);\n",
              "          const docLink = document.createElement('div');\n",
              "          docLink.innerHTML = docLinkHtml;\n",
              "          element.appendChild(docLink);\n",
              "        }\n",
              "      </script>\n",
              "    </div>\n",
              "  </div>\n",
              "  "
            ]
          },
          "metadata": {},
          "execution_count": 57
        }
      ],
      "source": [
        "#Utilizando os valores do describe.\n",
        "barato = vinhos_2.loc[vinhos_2['price']==4]\n",
        "barato"
      ]
    },
    {
      "cell_type": "markdown",
      "metadata": {
        "id": "Lcv32uMjiND-"
      },
      "source": [
        "# Quais Vinhos obtiveram a nota maxima?"
      ]
    },
    {
      "cell_type": "code",
      "execution_count": 58,
      "metadata": {
        "id": "wcX4y2SeiGGY",
        "colab": {
          "base_uri": "https://localhost:8080/",
          "height": 0
        },
        "outputId": "310315ed-38ff-45a0-ca63-e5fb41e44cc7"
      },
      "outputs": [
        {
          "output_type": "execute_result",
          "data": {
            "text/plain": [
              "          country                                        description  points  \\\n",
              "345     Australia  This wine contains some material over 100 year...     100   \n",
              "7335        Italy  Thick as molasses and dark as caramelized brow...     100   \n",
              "36528      France  This is a fabulous wine from the greatest Cham...     100   \n",
              "39286       Italy  A perfect wine from a classic vintage, the 200...     100   \n",
              "42197    Portugal  This is the latest release of what has long be...     100   \n",
              "45781       Italy  This gorgeous, fragrant wine opens with classi...     100   \n",
              "45798          US  Tasted in a flight of great and famous Napa wi...     100   \n",
              "58352      France  This is a magnificently solid wine, initially ...     100   \n",
              "89728      France  This latest incarnation of the famous brand is...     100   \n",
              "89729      France  This new release from a great vintage for Char...     100   \n",
              "111753     France  Almost black in color, this stunning wine is g...     100   \n",
              "111754      Italy  It takes only a few moments before you appreci...     100   \n",
              "111755     France  This is the finest Cheval Blanc for many years...     100   \n",
              "111756     France  A hugely powerful wine, full of dark, brooding...     100   \n",
              "113929         US  In 2005 Charles Smith introduced three high-en...     100   \n",
              "114972   Portugal  A powerful and ripe wine, strongly influenced ...     100   \n",
              "118058         US  This wine dazzles with perfection. Sourced fro...     100   \n",
              "122935     France  Full of ripe fruit, opulent and concentrated, ...     100   \n",
              "123545         US  Initially a rather subdued Frog; as if it has ...     100   \n",
              "\n",
              "         price    province                                              title  \\\n",
              "345      350.0    Victoria  Chambers Rosewood Vineyards NV Rare Muscat (Ru...   \n",
              "7335     210.0     Tuscany  Avignonesi 1995 Occhio di Pernice  (Vin Santo ...   \n",
              "36528    259.0   Champagne                        Krug 2002 Brut  (Champagne)   \n",
              "39286    460.0     Tuscany  Tenuta dell'Ornellaia 2007 Masseto Merlot (Tos...   \n",
              "42197    450.0       Douro      Casa Ferreirinha 2008 Barca-Velha Red (Douro)   \n",
              "45781    550.0     Tuscany  Biondi Santi 2010 Riserva  (Brunello di Montal...   \n",
              "45798    200.0  California    Cardinale 2006 Cabernet Sauvignon (Napa Valley)   \n",
              "58352    150.0    Bordeaux         Château Léoville Barton 2010  Saint-Julien   \n",
              "89728    250.0   Champagne  Louis Roederer 2008 Cristal Vintage Brut  (Cha...   \n",
              "89729    617.0   Champagne  Salon 2006 Le Mesnil Blanc de Blancs Brut Char...   \n",
              "111753  1500.0    Bordeaux           Château Lafite Rothschild 2010  Pauillac   \n",
              "111754   270.0     Tuscany  Casanova di Neri 2007 Cerretalto  (Brunello di...   \n",
              "111755  1500.0    Bordeaux           Château Cheval Blanc 2010  Saint-Émilion   \n",
              "111756   359.0    Bordeaux      Château Léoville Las Cases 2010  Saint-Julien   \n",
              "113929    80.0  Washington  Charles Smith 2006 Royal City Syrah (Columbia ...   \n",
              "114972   650.0        Port      Quinta do Noval 2011 Nacional Vintage  (Port)   \n",
              "118058   450.0  California            Verité 2007 La Muse Red (Sonoma County)   \n",
              "122935   848.0    Bordeaux            Château Haut-Brion 2014  Pessac-Léognan   \n",
              "123545    80.0  Washington  Cayuse 2008 Bionic Frog Syrah (Walla Walla Val...   \n",
              "\n",
              "                           variety                       winery  \n",
              "345                         Muscat  Chambers Rosewood Vineyards  \n",
              "7335              Prugnolo Gentile                   Avignonesi  \n",
              "36528              Champagne Blend                         Krug  \n",
              "39286                       Merlot        Tenuta dell'Ornellaia  \n",
              "42197               Portuguese Red             Casa Ferreirinha  \n",
              "45781                   Sangiovese                 Biondi Santi  \n",
              "45798           Cabernet Sauvignon                    Cardinale  \n",
              "58352     Bordeaux-style Red Blend      Château Léoville Barton  \n",
              "89728              Champagne Blend               Louis Roederer  \n",
              "89729                   Chardonnay                        Salon  \n",
              "111753    Bordeaux-style Red Blend    Château Lafite Rothschild  \n",
              "111754           Sangiovese Grosso             Casanova di Neri  \n",
              "111755    Bordeaux-style Red Blend         Château Cheval Blanc  \n",
              "111756    Bordeaux-style Red Blend   Château Léoville Las Cases  \n",
              "113929                       Syrah                Charles Smith  \n",
              "114972                        Port              Quinta do Noval  \n",
              "118058    Bordeaux-style Red Blend                       Verité  \n",
              "122935  Bordeaux-style White Blend           Château Haut-Brion  \n",
              "123545                       Syrah                       Cayuse  "
            ],
            "text/html": [
              "\n",
              "  <div id=\"df-b067fe1e-9f81-4f3a-b89c-41b50d247100\">\n",
              "    <div class=\"colab-df-container\">\n",
              "      <div>\n",
              "<style scoped>\n",
              "    .dataframe tbody tr th:only-of-type {\n",
              "        vertical-align: middle;\n",
              "    }\n",
              "\n",
              "    .dataframe tbody tr th {\n",
              "        vertical-align: top;\n",
              "    }\n",
              "\n",
              "    .dataframe thead th {\n",
              "        text-align: right;\n",
              "    }\n",
              "</style>\n",
              "<table border=\"1\" class=\"dataframe\">\n",
              "  <thead>\n",
              "    <tr style=\"text-align: right;\">\n",
              "      <th></th>\n",
              "      <th>country</th>\n",
              "      <th>description</th>\n",
              "      <th>points</th>\n",
              "      <th>price</th>\n",
              "      <th>province</th>\n",
              "      <th>title</th>\n",
              "      <th>variety</th>\n",
              "      <th>winery</th>\n",
              "    </tr>\n",
              "  </thead>\n",
              "  <tbody>\n",
              "    <tr>\n",
              "      <th>345</th>\n",
              "      <td>Australia</td>\n",
              "      <td>This wine contains some material over 100 year...</td>\n",
              "      <td>100</td>\n",
              "      <td>350.0</td>\n",
              "      <td>Victoria</td>\n",
              "      <td>Chambers Rosewood Vineyards NV Rare Muscat (Ru...</td>\n",
              "      <td>Muscat</td>\n",
              "      <td>Chambers Rosewood Vineyards</td>\n",
              "    </tr>\n",
              "    <tr>\n",
              "      <th>7335</th>\n",
              "      <td>Italy</td>\n",
              "      <td>Thick as molasses and dark as caramelized brow...</td>\n",
              "      <td>100</td>\n",
              "      <td>210.0</td>\n",
              "      <td>Tuscany</td>\n",
              "      <td>Avignonesi 1995 Occhio di Pernice  (Vin Santo ...</td>\n",
              "      <td>Prugnolo Gentile</td>\n",
              "      <td>Avignonesi</td>\n",
              "    </tr>\n",
              "    <tr>\n",
              "      <th>36528</th>\n",
              "      <td>France</td>\n",
              "      <td>This is a fabulous wine from the greatest Cham...</td>\n",
              "      <td>100</td>\n",
              "      <td>259.0</td>\n",
              "      <td>Champagne</td>\n",
              "      <td>Krug 2002 Brut  (Champagne)</td>\n",
              "      <td>Champagne Blend</td>\n",
              "      <td>Krug</td>\n",
              "    </tr>\n",
              "    <tr>\n",
              "      <th>39286</th>\n",
              "      <td>Italy</td>\n",
              "      <td>A perfect wine from a classic vintage, the 200...</td>\n",
              "      <td>100</td>\n",
              "      <td>460.0</td>\n",
              "      <td>Tuscany</td>\n",
              "      <td>Tenuta dell'Ornellaia 2007 Masseto Merlot (Tos...</td>\n",
              "      <td>Merlot</td>\n",
              "      <td>Tenuta dell'Ornellaia</td>\n",
              "    </tr>\n",
              "    <tr>\n",
              "      <th>42197</th>\n",
              "      <td>Portugal</td>\n",
              "      <td>This is the latest release of what has long be...</td>\n",
              "      <td>100</td>\n",
              "      <td>450.0</td>\n",
              "      <td>Douro</td>\n",
              "      <td>Casa Ferreirinha 2008 Barca-Velha Red (Douro)</td>\n",
              "      <td>Portuguese Red</td>\n",
              "      <td>Casa Ferreirinha</td>\n",
              "    </tr>\n",
              "    <tr>\n",
              "      <th>45781</th>\n",
              "      <td>Italy</td>\n",
              "      <td>This gorgeous, fragrant wine opens with classi...</td>\n",
              "      <td>100</td>\n",
              "      <td>550.0</td>\n",
              "      <td>Tuscany</td>\n",
              "      <td>Biondi Santi 2010 Riserva  (Brunello di Montal...</td>\n",
              "      <td>Sangiovese</td>\n",
              "      <td>Biondi Santi</td>\n",
              "    </tr>\n",
              "    <tr>\n",
              "      <th>45798</th>\n",
              "      <td>US</td>\n",
              "      <td>Tasted in a flight of great and famous Napa wi...</td>\n",
              "      <td>100</td>\n",
              "      <td>200.0</td>\n",
              "      <td>California</td>\n",
              "      <td>Cardinale 2006 Cabernet Sauvignon (Napa Valley)</td>\n",
              "      <td>Cabernet Sauvignon</td>\n",
              "      <td>Cardinale</td>\n",
              "    </tr>\n",
              "    <tr>\n",
              "      <th>58352</th>\n",
              "      <td>France</td>\n",
              "      <td>This is a magnificently solid wine, initially ...</td>\n",
              "      <td>100</td>\n",
              "      <td>150.0</td>\n",
              "      <td>Bordeaux</td>\n",
              "      <td>Château Léoville Barton 2010  Saint-Julien</td>\n",
              "      <td>Bordeaux-style Red Blend</td>\n",
              "      <td>Château Léoville Barton</td>\n",
              "    </tr>\n",
              "    <tr>\n",
              "      <th>89728</th>\n",
              "      <td>France</td>\n",
              "      <td>This latest incarnation of the famous brand is...</td>\n",
              "      <td>100</td>\n",
              "      <td>250.0</td>\n",
              "      <td>Champagne</td>\n",
              "      <td>Louis Roederer 2008 Cristal Vintage Brut  (Cha...</td>\n",
              "      <td>Champagne Blend</td>\n",
              "      <td>Louis Roederer</td>\n",
              "    </tr>\n",
              "    <tr>\n",
              "      <th>89729</th>\n",
              "      <td>France</td>\n",
              "      <td>This new release from a great vintage for Char...</td>\n",
              "      <td>100</td>\n",
              "      <td>617.0</td>\n",
              "      <td>Champagne</td>\n",
              "      <td>Salon 2006 Le Mesnil Blanc de Blancs Brut Char...</td>\n",
              "      <td>Chardonnay</td>\n",
              "      <td>Salon</td>\n",
              "    </tr>\n",
              "    <tr>\n",
              "      <th>111753</th>\n",
              "      <td>France</td>\n",
              "      <td>Almost black in color, this stunning wine is g...</td>\n",
              "      <td>100</td>\n",
              "      <td>1500.0</td>\n",
              "      <td>Bordeaux</td>\n",
              "      <td>Château Lafite Rothschild 2010  Pauillac</td>\n",
              "      <td>Bordeaux-style Red Blend</td>\n",
              "      <td>Château Lafite Rothschild</td>\n",
              "    </tr>\n",
              "    <tr>\n",
              "      <th>111754</th>\n",
              "      <td>Italy</td>\n",
              "      <td>It takes only a few moments before you appreci...</td>\n",
              "      <td>100</td>\n",
              "      <td>270.0</td>\n",
              "      <td>Tuscany</td>\n",
              "      <td>Casanova di Neri 2007 Cerretalto  (Brunello di...</td>\n",
              "      <td>Sangiovese Grosso</td>\n",
              "      <td>Casanova di Neri</td>\n",
              "    </tr>\n",
              "    <tr>\n",
              "      <th>111755</th>\n",
              "      <td>France</td>\n",
              "      <td>This is the finest Cheval Blanc for many years...</td>\n",
              "      <td>100</td>\n",
              "      <td>1500.0</td>\n",
              "      <td>Bordeaux</td>\n",
              "      <td>Château Cheval Blanc 2010  Saint-Émilion</td>\n",
              "      <td>Bordeaux-style Red Blend</td>\n",
              "      <td>Château Cheval Blanc</td>\n",
              "    </tr>\n",
              "    <tr>\n",
              "      <th>111756</th>\n",
              "      <td>France</td>\n",
              "      <td>A hugely powerful wine, full of dark, brooding...</td>\n",
              "      <td>100</td>\n",
              "      <td>359.0</td>\n",
              "      <td>Bordeaux</td>\n",
              "      <td>Château Léoville Las Cases 2010  Saint-Julien</td>\n",
              "      <td>Bordeaux-style Red Blend</td>\n",
              "      <td>Château Léoville Las Cases</td>\n",
              "    </tr>\n",
              "    <tr>\n",
              "      <th>113929</th>\n",
              "      <td>US</td>\n",
              "      <td>In 2005 Charles Smith introduced three high-en...</td>\n",
              "      <td>100</td>\n",
              "      <td>80.0</td>\n",
              "      <td>Washington</td>\n",
              "      <td>Charles Smith 2006 Royal City Syrah (Columbia ...</td>\n",
              "      <td>Syrah</td>\n",
              "      <td>Charles Smith</td>\n",
              "    </tr>\n",
              "    <tr>\n",
              "      <th>114972</th>\n",
              "      <td>Portugal</td>\n",
              "      <td>A powerful and ripe wine, strongly influenced ...</td>\n",
              "      <td>100</td>\n",
              "      <td>650.0</td>\n",
              "      <td>Port</td>\n",
              "      <td>Quinta do Noval 2011 Nacional Vintage  (Port)</td>\n",
              "      <td>Port</td>\n",
              "      <td>Quinta do Noval</td>\n",
              "    </tr>\n",
              "    <tr>\n",
              "      <th>118058</th>\n",
              "      <td>US</td>\n",
              "      <td>This wine dazzles with perfection. Sourced fro...</td>\n",
              "      <td>100</td>\n",
              "      <td>450.0</td>\n",
              "      <td>California</td>\n",
              "      <td>Verité 2007 La Muse Red (Sonoma County)</td>\n",
              "      <td>Bordeaux-style Red Blend</td>\n",
              "      <td>Verité</td>\n",
              "    </tr>\n",
              "    <tr>\n",
              "      <th>122935</th>\n",
              "      <td>France</td>\n",
              "      <td>Full of ripe fruit, opulent and concentrated, ...</td>\n",
              "      <td>100</td>\n",
              "      <td>848.0</td>\n",
              "      <td>Bordeaux</td>\n",
              "      <td>Château Haut-Brion 2014  Pessac-Léognan</td>\n",
              "      <td>Bordeaux-style White Blend</td>\n",
              "      <td>Château Haut-Brion</td>\n",
              "    </tr>\n",
              "    <tr>\n",
              "      <th>123545</th>\n",
              "      <td>US</td>\n",
              "      <td>Initially a rather subdued Frog; as if it has ...</td>\n",
              "      <td>100</td>\n",
              "      <td>80.0</td>\n",
              "      <td>Washington</td>\n",
              "      <td>Cayuse 2008 Bionic Frog Syrah (Walla Walla Val...</td>\n",
              "      <td>Syrah</td>\n",
              "      <td>Cayuse</td>\n",
              "    </tr>\n",
              "  </tbody>\n",
              "</table>\n",
              "</div>\n",
              "      <button class=\"colab-df-convert\" onclick=\"convertToInteractive('df-b067fe1e-9f81-4f3a-b89c-41b50d247100')\"\n",
              "              title=\"Convert this dataframe to an interactive table.\"\n",
              "              style=\"display:none;\">\n",
              "        \n",
              "  <svg xmlns=\"http://www.w3.org/2000/svg\" height=\"24px\"viewBox=\"0 0 24 24\"\n",
              "       width=\"24px\">\n",
              "    <path d=\"M0 0h24v24H0V0z\" fill=\"none\"/>\n",
              "    <path d=\"M18.56 5.44l.94 2.06.94-2.06 2.06-.94-2.06-.94-.94-2.06-.94 2.06-2.06.94zm-11 1L8.5 8.5l.94-2.06 2.06-.94-2.06-.94L8.5 2.5l-.94 2.06-2.06.94zm10 10l.94 2.06.94-2.06 2.06-.94-2.06-.94-.94-2.06-.94 2.06-2.06.94z\"/><path d=\"M17.41 7.96l-1.37-1.37c-.4-.4-.92-.59-1.43-.59-.52 0-1.04.2-1.43.59L10.3 9.45l-7.72 7.72c-.78.78-.78 2.05 0 2.83L4 21.41c.39.39.9.59 1.41.59.51 0 1.02-.2 1.41-.59l7.78-7.78 2.81-2.81c.8-.78.8-2.07 0-2.86zM5.41 20L4 18.59l7.72-7.72 1.47 1.35L5.41 20z\"/>\n",
              "  </svg>\n",
              "      </button>\n",
              "      \n",
              "  <style>\n",
              "    .colab-df-container {\n",
              "      display:flex;\n",
              "      flex-wrap:wrap;\n",
              "      gap: 12px;\n",
              "    }\n",
              "\n",
              "    .colab-df-convert {\n",
              "      background-color: #E8F0FE;\n",
              "      border: none;\n",
              "      border-radius: 50%;\n",
              "      cursor: pointer;\n",
              "      display: none;\n",
              "      fill: #1967D2;\n",
              "      height: 32px;\n",
              "      padding: 0 0 0 0;\n",
              "      width: 32px;\n",
              "    }\n",
              "\n",
              "    .colab-df-convert:hover {\n",
              "      background-color: #E2EBFA;\n",
              "      box-shadow: 0px 1px 2px rgba(60, 64, 67, 0.3), 0px 1px 3px 1px rgba(60, 64, 67, 0.15);\n",
              "      fill: #174EA6;\n",
              "    }\n",
              "\n",
              "    [theme=dark] .colab-df-convert {\n",
              "      background-color: #3B4455;\n",
              "      fill: #D2E3FC;\n",
              "    }\n",
              "\n",
              "    [theme=dark] .colab-df-convert:hover {\n",
              "      background-color: #434B5C;\n",
              "      box-shadow: 0px 1px 3px 1px rgba(0, 0, 0, 0.15);\n",
              "      filter: drop-shadow(0px 1px 2px rgba(0, 0, 0, 0.3));\n",
              "      fill: #FFFFFF;\n",
              "    }\n",
              "  </style>\n",
              "\n",
              "      <script>\n",
              "        const buttonEl =\n",
              "          document.querySelector('#df-b067fe1e-9f81-4f3a-b89c-41b50d247100 button.colab-df-convert');\n",
              "        buttonEl.style.display =\n",
              "          google.colab.kernel.accessAllowed ? 'block' : 'none';\n",
              "\n",
              "        async function convertToInteractive(key) {\n",
              "          const element = document.querySelector('#df-b067fe1e-9f81-4f3a-b89c-41b50d247100');\n",
              "          const dataTable =\n",
              "            await google.colab.kernel.invokeFunction('convertToInteractive',\n",
              "                                                     [key], {});\n",
              "          if (!dataTable) return;\n",
              "\n",
              "          const docLinkHtml = 'Like what you see? Visit the ' +\n",
              "            '<a target=\"_blank\" href=https://colab.research.google.com/notebooks/data_table.ipynb>data table notebook</a>'\n",
              "            + ' to learn more about interactive tables.';\n",
              "          element.innerHTML = '';\n",
              "          dataTable['output_type'] = 'display_data';\n",
              "          await google.colab.output.renderOutput(dataTable, element);\n",
              "          const docLink = document.createElement('div');\n",
              "          docLink.innerHTML = docLinkHtml;\n",
              "          element.appendChild(docLink);\n",
              "        }\n",
              "      </script>\n",
              "    </div>\n",
              "  </div>\n",
              "  "
            ]
          },
          "metadata": {},
          "execution_count": 58
        }
      ],
      "source": [
        "melhor = vinhos_2.loc[vinhos_2['points']==100]\n",
        "melhor"
      ]
    },
    {
      "cell_type": "markdown",
      "metadata": {
        "id": "maIjWzqUjX1M"
      },
      "source": [
        "E o mais bem avaliado com o valor mais baixo:"
      ]
    },
    {
      "cell_type": "code",
      "execution_count": 59,
      "metadata": {
        "id": "9k0C2VP_jNPW",
        "colab": {
          "base_uri": "https://localhost:8080/"
        },
        "outputId": "52706fca-c16a-451f-8438-b00ef18e544c"
      },
      "outputs": [
        {
          "output_type": "execute_result",
          "data": {
            "text/plain": [
              "country                                                Australia\n",
              "description    A hugely powerful wine, full of dark, brooding...\n",
              "points                                                       100\n",
              "price                                                       80.0\n",
              "province                                                Bordeaux\n",
              "title          Avignonesi 1995 Occhio di Pernice  (Vin Santo ...\n",
              "variety                                 Bordeaux-style Red Blend\n",
              "winery                                                Avignonesi\n",
              "dtype: object"
            ]
          },
          "metadata": {},
          "execution_count": 59
        }
      ],
      "source": [
        "melhor.min()"
      ]
    },
    {
      "cell_type": "markdown",
      "metadata": {
        "id": "HesLas-Djif6"
      },
      "source": [
        "O Mais bem avaliado mais caro."
      ]
    },
    {
      "cell_type": "code",
      "execution_count": 60,
      "metadata": {
        "id": "iI0-fNKHjf87",
        "colab": {
          "base_uri": "https://localhost:8080/"
        },
        "outputId": "1c782ccf-0cc4-4d50-8bea-31e4ae013b42"
      },
      "outputs": [
        {
          "output_type": "execute_result",
          "data": {
            "text/plain": [
              "country                                                       US\n",
              "description    This wine dazzles with perfection. Sourced fro...\n",
              "points                                                       100\n",
              "price                                                     1500.0\n",
              "province                                              Washington\n",
              "title                    Verité 2007 La Muse Red (Sonoma County)\n",
              "variety                                                    Syrah\n",
              "winery                                                    Verité\n",
              "dtype: object"
            ]
          },
          "metadata": {},
          "execution_count": 60
        }
      ],
      "source": [
        "melhor.max()"
      ]
    },
    {
      "cell_type": "markdown",
      "metadata": {
        "id": "lgnIysPbZXb6"
      },
      "source": [
        "# Qual especialista avaliou mais vinhos? Qual a sua nota média?\n",
        "* Roger Voss avaliou 25.514 vinhos"
      ]
    },
    {
      "cell_type": "code",
      "execution_count": 61,
      "metadata": {
        "id": "LM6_x3C5ZJo6",
        "colab": {
          "base_uri": "https://localhost:8080/"
        },
        "outputId": "ba940f94-b1cc-4ad2-ad9f-b2f4029a7eb1"
      },
      "outputs": [
        {
          "output_type": "execute_result",
          "data": {
            "text/plain": [
              "Roger Voss            25514\n",
              "Michael Schachner     15134\n",
              "Kerin O’Keefe         10776\n",
              "Virginie Boone         9537\n",
              "Paul Gregutt           9532\n",
              "Matt Kettmann          6332\n",
              "Joe Czerwinski         5147\n",
              "Sean P. Sullivan       4966\n",
              "Anna Lee C. Iijima     4415\n",
              "Jim Gordon             4177\n",
              "Anne Krebiehl MW       3685\n",
              "Lauren Buzzeo          1835\n",
              "Susan Kostrzewa        1085\n",
              "Mike DeSimone           514\n",
              "Jeff Jenssen            491\n",
              "Alexander Peartree      415\n",
              "Carrie Dykes            139\n",
              "Fiona Adams              27\n",
              "Christina Pickard         6\n",
              "Name: taster_name, dtype: int64"
            ]
          },
          "metadata": {},
          "execution_count": 61
        }
      ],
      "source": [
        "vinhos['taster_name'].value_counts()"
      ]
    },
    {
      "cell_type": "code",
      "execution_count": null,
      "metadata": {
        "id": "4vXx1T_jZe9o"
      },
      "outputs": [],
      "source": [
        "#Nota média do RogerVoss\n",
        "nota = vinhos.loc[vinhos['taster_name']=='Roger Voss']\n",
        "nota.mean()"
      ]
    },
    {
      "cell_type": "code",
      "execution_count": null,
      "metadata": {
        "id": "U5FmgQ0OmBER"
      },
      "outputs": [],
      "source": [
        "import seaborn as sns\n",
        "\n",
        "media = sns.barplot(data=vinhos, x='taster_name', y='points');\n",
        "media.set_title('Provadores e a pontuação', fontsize=18)\n",
        "media.set_ylabel('points', fontsize=18)\n",
        "media.set_xticklabels(media.get_xticklabels(),rotation = 90);"
      ]
    },
    {
      "cell_type": "code",
      "execution_count": null,
      "metadata": {
        "id": "lh9ov-6xo6me"
      },
      "outputs": [],
      "source": [
        "# ax = sns.boxplot(y=vinhos_2[\"points\"], x=vinhos_2[\"title\"]);\n",
        "\n",
        "# ax.set_xticklabels(ax.get_xticklabels(),rotation = 90);"
      ]
    },
    {
      "cell_type": "markdown",
      "source": [
        "# Qual região possui os vinhos com as maiores avaliações? "
      ],
      "metadata": {
        "id": "gqCvvcabRin2"
      }
    },
    {
      "cell_type": "code",
      "source": [
        "import plotly.express as px\n",
        "\n",
        "grafico = px.histogram(melhor, x='title', color='country')\n",
        "grafico.show()"
      ],
      "metadata": {
        "id": "XImHR0c5IYXZ"
      },
      "execution_count": null,
      "outputs": []
    },
    {
      "cell_type": "markdown",
      "source": [
        "Conforme apresentado no gráfico acima, o País com mais vinhos avaliados com a nota máxima são da França."
      ],
      "metadata": {
        "id": "Fbk4aHUvTIHF"
      }
    },
    {
      "cell_type": "markdown",
      "source": [
        "# E qual possui os vinhos mais baratos?"
      ],
      "metadata": {
        "id": "bXdospFDRpvK"
      }
    },
    {
      "cell_type": "code",
      "source": [
        "grafico2 = px.histogram(barato, x='title', color='country')\n",
        "grafico2.show()"
      ],
      "metadata": {
        "id": "MpPba3HaR5iY"
      },
      "execution_count": null,
      "outputs": []
    },
    {
      "cell_type": "markdown",
      "source": [
        "Conforme representado acima, o País com mais vinhos baratos é os Estados Unidos."
      ],
      "metadata": {
        "id": "dmAi_ItyTUWr"
      }
    },
    {
      "cell_type": "markdown",
      "metadata": {
        "id": "TuVH8BDikz8l"
      },
      "source": [
        "2. Sistema de recomendação: faça a construção de seu sistema de recomendação\n",
        "(4 pontos)"
      ]
    },
    {
      "cell_type": "markdown",
      "source": [
        "Acionamento do Modelo de transformação da coluna de texto, irei usar a coluna de descrição do vinho."
      ],
      "metadata": {
        "id": "hX-2YXiaeWsF"
      }
    },
    {
      "cell_type": "code",
      "source": [
        "import nltk\n",
        "nltk.download('stopwords')"
      ],
      "metadata": {
        "id": "rHJO57GOZzCk"
      },
      "execution_count": null,
      "outputs": []
    },
    {
      "cell_type": "code",
      "source": [
        "stop_words = stopwords.words('english')\n",
        "lemmatizer = WordNetLemmatizer()\n",
        "stemmer = PorterStemmer()\n",
        "mlb = MultiLabelBinarizer()\n",
        "vectorizer = CountVectorizer(analyzer='word', ngram_range=(2, 2))\n",
        "tfidf_transformer = TfidfTransformer()"
      ],
      "metadata": {
        "id": "PfhaHQGpaRrb"
      },
      "execution_count": null,
      "outputs": []
    },
    {
      "cell_type": "code",
      "source": [
        "contagem = vinhos_2.description.value_counts()\n",
        "manter = contagem[contagem > 3]\n",
        "vinhos_2 = vinhos_2[vinhos_2.description.isin(manter.index)]\n",
        "\n",
        "titulos = vinhos_2.title\n",
        "descricao  = vinhos_2.description.apply(lambda x : [n.strip() for n in x.split(',')]).tolist()"
      ],
      "metadata": {
        "id": "0Cr_jkodb8oq"
      },
      "execution_count": null,
      "outputs": []
    },
    {
      "cell_type": "code",
      "source": [
        "descricao"
      ],
      "metadata": {
        "id": "xnHA2mb5gk8P"
      },
      "execution_count": null,
      "outputs": []
    },
    {
      "cell_type": "code",
      "source": [
        "mlb.fit(descricao)\n",
        "y = mlb.transform(descricao)"
      ],
      "metadata": {
        "id": "5VjsagChdT_r"
      },
      "execution_count": null,
      "outputs": []
    },
    {
      "cell_type": "code",
      "source": [
        "# funcao para tratar cada palavra e remover stopwords\n",
        "def processamento(tokens):\n",
        "    \n",
        "    token_processado = []\n",
        "    for token in tokens:\n",
        "        token = token.lower()\n",
        "        token = lemmatizer.lemmatize(token)\n",
        "        \n",
        "        if token not in stop_words:\n",
        "            token = stemmer.stem(token)\n",
        "            token_processado.append(token)\n",
        "        \n",
        "    return token_processado\n",
        "\n",
        "documentos = []\n",
        "for descricao in descricao:\n",
        "    \n",
        "    # expressao regular para remover pontuacoes do texto\n",
        "    descricao = re.sub(r'[^\\w\\s]','', descricao)\n",
        "    tokens = processamento(word_tokenize(descricao))\n",
        "    \n",
        "    documentos.append(' '.join(tokens))\n",
        "\n",
        "# X_train_counts = vectorizer.fit_transform(documentos)\n",
        "# X_train_tfidf = tfidf_transformer.fit_transform(X_train_counts)\n",
        "\n",
        "# X = X_train_tfidf"
      ],
      "metadata": {
        "id": "Y_QTDXZeoCxS"
      },
      "execution_count": null,
      "outputs": []
    },
    {
      "cell_type": "code",
      "source": [
        "documentos"
      ],
      "metadata": {
        "id": "nmelPALOgRyd"
      },
      "execution_count": null,
      "outputs": []
    },
    {
      "cell_type": "code",
      "source": [
        "# funcao para tratar cada palavra e remover stopwords\n",
        "documentot = []\n",
        "for titulos in titulos:\n",
        "    \n",
        "    # expressao regular para remover pontuacoes do texto\n",
        "    descricao = re.sub(r'[^\\w\\s]','', titulos)\n",
        "    tokens = processamento(word_tokenize(titulos))\n",
        "    \n",
        "    documentot.append(' '.join(tokens))\n",
        "\n",
        "# X_train_counts = vectorizer.fit_transform(documentos)\n",
        "# X_train_tfidf = tfidf_transformer.fit_transform(X_train_counts)\n",
        "\n",
        "# X = X_train_tfidf"
      ],
      "metadata": {
        "id": "sXqBQTUa3FhR"
      },
      "execution_count": null,
      "outputs": []
    },
    {
      "cell_type": "code",
      "execution_count": null,
      "metadata": {
        "id": "UtqUbPpdneMF"
      },
      "outputs": [],
      "source": [
        "def criar_matrix_mapeamento(avaliacoes):\n",
        "      \n",
        "    N = len(vinhos_2['description'].unique())\n",
        "    M = len(vinhos_2['title'].unique())\n",
        "      \n",
        "    # Mapear os ids com indices\n",
        "    descricao = dict(zip(np.unique(vinhos_2['description']), list(range(N))))\n",
        "    vinhos_dicionario   = dict(zip(np.unique((vinhos_2['title']), list(range(M))))\n",
        "      \n",
        "    # Mapear indices para ids\n",
        "    vinho_3 = dict(zip(list(range(N)), np.unique(vinhos_2['description'])))\n",
        "    vinho_inv_dicionario = dict(zip(list(range(M)), np.unique((vinhos_2['title'])))\n",
        "      \n",
        "    vinho_desc_indices = [descricao[i] for i in vinhos_2['description']]\n",
        "    title_indices   = [vinhos_dicionario[i] for i in (vinhos_2['title']]\n",
        "  \n",
        "    X = csr_matrix((vinhos_2[\"point\"], (title_indices, vinho_desc_indices)), shape=(M, N))\n",
        "      \n",
        "    return X, vinho_desc, vinho_inv_dicionario"
      ]
    },
    {
      "cell_type": "code",
      "execution_count": null,
      "metadata": {
        "id": "FIg6qb-EnhxY"
      },
      "outputs": [],
      "source": [
        "def recomendacoes(filme_id, X, k, filmes_titulos, metrica='cosine', mostrar_distancia=False):\n",
        "      \n",
        "    vizinhos_ids = []\n",
        "    \n",
        "    filme_indice = filmes_dicionario[filme_id]\n",
        "    filme_vetor = X[filme_indice]\n",
        "    \n",
        "    k+=1\n",
        "    kNN = NearestNeighbors(n_neighbors=k, algorithm=\"brute\", metric=metrica)\n",
        "    kNN.fit(X)\n",
        "    filme_vetor = filme_vetor.reshape(1,-1)\n",
        "    neighbour = kNN.kneighbors(filme_vetor, return_distance=mostrar_distancia)\n",
        "    for i in range(0,k):\n",
        "        n = neighbour.item(i)\n",
        "        vizinhos_ids.append(filmes_inv_dicionario[n])\n",
        "    vizinhos_ids.pop(0)\n",
        "    \n",
        "    recomendacoes = [filmes_titulos[idx] for idx in vizinhos_ids]\n",
        "    \n",
        "    return recomendacoes"
      ]
    },
    {
      "cell_type": "code",
      "execution_count": null,
      "metadata": {
        "id": "-xN-IGB1nnhg"
      },
      "outputs": [],
      "source": [
        "                                                                                                                                                                                                                                                                                                                                                                                                                                                                                                                                                                                                                                                                                                                                                                                                                                                                                                                                                                                                                                                                                                                                                                                                                                                                                                                                                                                                                                                                                                                                                                                                                                                                                                                                                                                                                                                                                                                                                                                                                                                                                                                                                                                                                                                                                                                                                                                                                                                                                                                                                                                                                                                                                                                                                                                                                                                                                                                                                                                                                                                                                                                                                                                                                                                                                                                                                                                                                                                                                                                                                                                                                                                                                                                                                                                                                                                                                                                                                                                                                                                                                                                                                                                                                                                                                                                                                                                                                                                                                                                                                                                                                                                                                                                                                                                                                                                                                                                                                                                                                                                                                                                                                                                                                                                                                                                                                                                                                                                                                                                                                                                                                                                                                                                                                                                                                                                                                                                                                                                                                                                                                                                                                                                                                                                                                                                                                                                                                                                                                                                                                                                                                                                                                                                                                                                                                                                                                                                                                                                                                                                                                                                                                                                                                                                                                                    # dicionario de ids e titulos de filmes\n",
        "filmes_titulos = dict(zip(metadados['movieId'], metadados['title']))\n",
        "\n",
        "# construcao da matriz\n",
        "X, filmes_dicionario, filmes_inv_dicionario = criar_matrix_mapeamento(avaliacoes)"
      ]
    },
    {
      "cell_type": "code",
      "execution_count": null,
      "metadata": {
        "id": "KaWRLwLlnqTP"
      },
      "outputs": [],
      "source": [
        "# por exemplo o id 1 é 'Toy Story'\n",
        "recomendacoes(filme_id = 1, X=X, k=10, filmes_titulos=filmes_titulos)"
      ]
    },
    {
      "cell_type": "markdown",
      "metadata": {
        "id": "jVBNUanFk0AC"
      },
      "source": [
        " 3. ** Relatório**: construa um relatório utilizando o Markdown para escrever. Seja criativo para apresentar seus achados e siga os passos abaixo:\n",
        "\n",
        "* Imagine que você possui uma startup e este é o primeiro relatório apresentará\n",
        "Coloque o nome do seu produto\n",
        "* Apresente a introdução do problema (seja sucinto, escreva com poucas palavras)\n",
        "* Coloque gráficos e frases para sustentar seus argumentos\n",
        "* Mostre as soluções do mercado\n",
        "* Escreva sobre a sua solução e por que ela é a melhor"
      ]
    },
    {
      "cell_type": "markdown",
      "source": [
        "\n",
        "\n",
        "---\n",
        "# RELATÓRIO\n"
      ],
      "metadata": {
        "id": "kfQ756pUvI8e"
      }
    },
    {
      "cell_type": "markdown",
      "metadata": {
        "id": "RwvQH77Ok0Dc"
      },
      "source": [
        "Nome produto: Recomendação de vinhos - Sommelier NoVinho"
      ]
    },
    {
      "cell_type": "markdown",
      "metadata": {
        "id": "tAiKZtWmk0GP"
      },
      "source": [
        "   O vinho sempre esteve de alguma forma vinculado à história do homem, seja por ser uma bebida com sabor e personalidade próprios ou pelos\n",
        "benefícios que traz à saúde.\n",
        "\n",
        "   Um Mundo que envolve aroma, paladar, aspecto visual, experiência afetiva e, claro seu gosto pessoal ao degustar vinho.\n",
        "\n",
        "  Essa prática é tão séria que existe certificação, um sommelier master é uma pessoa que passou por quatro níveis de treinamento de sommelier para obter um Diploma de MS . Este diploma é entregue a candidatos selecionados pelo Tribunal de Mestres Sommeliers , que foi fundado em 1977.\n",
        "  Os master sommeliers precisam estar familiarizados com uma variedade de vinhos.\n",
        "\n",
        " * E será que com dados dew vinhos avaliados pelo sommilers, conseguiriamos criar um sistema de recomendação de vinhos, conforme o gosto da pessoa?*\n",
        "\n",
        "  Analisando os dados disponibilizados e com eles verificamos como poderiamos fazer um sistema de recomendação.\n",
        "\n",
        "\n",
        "  Os dados foram extraídos do WineEnthusiast durante a semana de 15 de junho de 2017. "
      ]
    },
    {
      "cell_type": "markdown",
      "metadata": {
        "id": "4iUXK33Uk0I0"
      },
      "source": [
        "**Graficos dos resultados do sistema de recomendações - métricas**"
      ]
    },
    {
      "cell_type": "markdown",
      "metadata": {
        "id": "qKtw4IcbkzKW"
      },
      "source": [
        "Um modelo no mercado ja utilizado é so site **9Wines**, o que utiliza o mesmo método das recomendações da netflix.\n",
        " Outro Modelo existente é o **Vivino** é um aplicativo de escaneamento de rótulos. Com ele, é possível encontrar informações sobre os 13 milhões de vinhos presentes em sua base de dados. \n",
        "**Cellar Tracker** é uma plataforma funciona como um sistema de catalogação online, na qual é possível registrar novos rótulos, rastrear garrafas já existentes, além de consultar informações sobre os seus vinhos favoritos e mais estimados. Entre outros aplicativos.\n",
        "\n",
        "Como essas aplicativos em grande sua maioria utiliza informações dos rótulos e não o gosto do cliente, o que se aproxima do nosso método é do site 9wines.\n",
        "\n",
        "Com base nos resultados obtidos no sistema de recomendações, conforme o gosto do cliente, e não em sua pontuação, ele é recomendando pela descrição e títulos apresentados no dataset, nem todas as pessoas possuem o mesmo paladar, nem sempre o melhor vinho é o mais caro, e poder diferenciar esses gostos, e trazer mais informações sobre o vinho em questão, sua pontuação, provincia, variedade, ano, Pais e o preço, é o grande diferencial desde metodo.\n",
        "\n",
        "Exemplo de aplicação do metodo, oo entrar no site da loja de vinhos, o cliente responde um breve questionário com algumas perguntas sobre as preferências de vinho e aromas que ajudam o algoritmo de recomendação para indicar e recomendar os rótulos mais adequados ao perfil de cada pessoa.\n",
        "\n",
        "É um método que podera ser mais explorado e aperfeiçoado com maior dedicação no futuro.\n"
      ]
    },
    {
      "cell_type": "markdown",
      "source": [
        "FONTES:\n",
        "\n",
        "\n",
        "* **Conheça o sistema inédito para recomendação de vinhos inspirado na Netflix**.<http://noticiasenegocios.com.br/2013/05/conheca-o-sistema-inedito-para-recomendacao-de-vinhos-inspirado-na-netflix/>. Acessado 17/07/2022.\n",
        "\n",
        "\n",
        "* **5 aplicativos de vinho para os enófilos de plantão**. <https://www.divvino.com.br/blog/aplicativos-de-vinho/>. Acessado 17/07/2022.\n",
        "\n",
        "\n",
        "* Fellipe Fernando,** Sistema de recomendação de vinhos**. <https://medium.com/@fellipefernando_34405/ramón-sistema-de-recomendação-de-vinhos-1a871a4b8d86>. Acessado em 13/07/2022."
      ],
      "metadata": {
        "id": "KqyoKDG2wKr2"
      }
    },
    {
      "cell_type": "code",
      "execution_count": null,
      "metadata": {
        "id": "jRS8dy8zjrVS"
      },
      "outputs": [],
      "source": [
        ""
      ]
    }
  ],
  "metadata": {
    "colab": {
      "name": "Untitled10.ipynb",
      "provenance": [],
      "mount_file_id": "1N1V7HzOEi2TWUzi6VwhizVpYQuAu_oyX",
      "authorship_tag": "ABX9TyOV1R1SntVdh6IL7/l/ebNp",
      "include_colab_link": true
    },
    "kernelspec": {
      "display_name": "Python 3",
      "name": "python3"
    },
    "language_info": {
      "name": "python"
    }
  },
  "nbformat": 4,
  "nbformat_minor": 0
}