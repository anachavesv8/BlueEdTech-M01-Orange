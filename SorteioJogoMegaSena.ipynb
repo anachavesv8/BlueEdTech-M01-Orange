{
  "nbformat": 4,
  "nbformat_minor": 0,
  "metadata": {
    "colab": {
      "name": "SorteioJogoMegaSena.ipynb",
      "provenance": [],
      "collapsed_sections": [],
      "authorship_tag": "ABX9TyMFlzYoBK7jYxURSVxINw5t",
      "include_colab_link": true
    },
    "kernelspec": {
      "name": "python3",
      "display_name": "Python 3"
    },
    "language_info": {
      "name": "python"
    }
  },
  "cells": [
    {
      "cell_type": "markdown",
      "metadata": {
        "id": "view-in-github",
        "colab_type": "text"
      },
      "source": [
        "<a href=\"https://colab.research.google.com/github/anachavesv8/BlueEdTech-M01-Orange/blob/main/SorteioJogoMegaSena.ipynb\" target=\"_parent\"><img src=\"https://colab.research.google.com/assets/colab-badge.svg\" alt=\"Open In Colab\"/></a>"
      ]
    },
    {
      "cell_type": "markdown",
      "source": [
        "Faça um programa que ajude um jogador da MEGA SENA a criar palpites.O programa vai perguntar quantos jogos serão gerados e vai sortear 6 números entre 1 e 60 para cada jogo, cadastrando tudo em uma lista composta."
      ],
      "metadata": {
        "id": "NkJjXRW81rG1"
      }
    },
    {
      "cell_type": "code",
      "execution_count": 6,
      "metadata": {
        "id": "QcX64A5byzEK",
        "colab": {
          "base_uri": "https://localhost:8080/"
        },
        "outputId": "a488ad8a-4daf-475e-e123-5df6160fb9c9"
      },
      "outputs": [
        {
          "output_type": "stream",
          "name": "stdout",
          "text": [
            "-=-=-=-=-=-=-=-=-=-=-=-=-=-=-=-=-=-=-=-=-=-=-=-=-=-=-=-=-=-=\n",
            "       JOGA NA MEGA SENA        \n",
            "-=-=-=-=-=-=-=-=-=-=-=-=-=-=-=-=-=-=-=-=-=-=-=-=-=-=-=-=-=-=\n",
            "Quantos Jogos você quer fazer? 5\n",
            "-=-=-= SORTEANDO 5 JOGOS -=-=-=\n",
            "Jogo 1:[12, 22, 23, 33, 35, 39]\n",
            "Jogo 2:[2, 8, 12, 15, 39, 41]\n",
            "Jogo 3:[4, 16, 22, 26, 45, 50]\n",
            "Jogo 4:[7, 16, 36, 44, 51, 55]\n",
            "Jogo 5:[4, 27, 33, 39, 48, 54]\n",
            "-=-=-=-=-= < BOA SORTE > -=-=-=-=-=\n"
          ]
        }
      ],
      "source": [
        "from random import randint\n",
        "print('-='*30)\n",
        "print('       JOGA NA MEGA SENA        ')\n",
        "print('-='*30)\n",
        "quant = int(input('Quantos Jogos você quer fazer? '))\n",
        "tot = 1\n",
        "cont = 0\n",
        "lista = []\n",
        "jogos = []\n",
        "while tot <= quant:\n",
        "  cont = 0\n",
        "  while True:\n",
        "    n = randint(1, 60)\n",
        "    if n not in lista:\n",
        "      lista.append(n)\n",
        "      cont += 1\n",
        "    if cont >= 6:\n",
        "      break\n",
        "  lista.sort()\n",
        "  jogos.append(lista[:])\n",
        "  lista.clear()\n",
        "  tot += 1\n",
        "print('-='*3, f'SORTEANDO {quant} JOGOS', '-='*3)\n",
        "for i, l in enumerate(jogos):\n",
        "  print(f'Jogo {i+1}:{l}')\n",
        "print('-='*5, '< BOA SORTE >', '-='*5)\n"
      ]
    }
  ]
}